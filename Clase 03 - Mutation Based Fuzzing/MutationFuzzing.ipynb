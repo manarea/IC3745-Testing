{
  "cells": [
    {
      "cell_type": "markdown",
      "source": [
        "# Mutation-Based Fuzzing\n",
        "\n",
        "La mayoria de las entradas (inputs) generadas aleatoriamente son invalidad y pueden ser rápidamente rechazadas al momento de ejecutar un programa. Para poder probar una función, por ejemplo, debemos incrementar las chances de crear entradas correctas. Una forma de crear es llamada mutational fuzzing, que basicamente trata de introducir pequeños cambios a entradas que ya sabemos que son validas. Mostraremos como crear mutaciones, y como guiar las mutaciones para tratarde cubrir código que antes no fue probado.\n",
        "\n",
        "Este capitulo esta 100% basado en el libro de Andreas Zeller, Rahul Gopinath, Marcel Böhme, Gordon Fraser, and Christian Holler, **The Fuzzing Book**, https://www.fuzzingbook.org/html/Fuzzer.html. Retrieved 2024-06-29 17:55:20+02:00.\n",
        "\n",
        "\n",
        "## Requisitos\n",
        "\n"
      ],
      "metadata": {
        "id": "YV64Vi0_Lnec"
      }
    },
    {
      "cell_type": "code",
      "source": [
        "from IPython.display import clear_output\n",
        "!apt-get update\n",
        "!apt-get install -y graphviz graphviz-dev\n",
        "!pip install pygraphviz\n",
        "!pip install fuzzingbook\n",
        "from typing import Tuple, List, Callable, Set, Any\n",
        "from urllib.parse import urlparse\n",
        "clear_output()\n"
      ],
      "metadata": {
        "id": "9AlH2PI8IeDU"
      },
      "execution_count": null,
      "outputs": []
    },
    {
      "cell_type": "code",
      "source": [
        "import fuzzingbook.bookutils.setup\n"
      ],
      "metadata": {
        "id": "bbfN7Iqtikcj"
      },
      "execution_count": null,
      "outputs": []
    },
    {
      "cell_type": "markdown",
      "source": [
        "\n",
        "\n",
        "## Ejemplo Rápido\n",
        "En este capitulo introduciremos la clase MutationFuzzer una clase que toma de entrada una lista de entradas semilla las cuales son mutadas."
      ],
      "metadata": {
        "id": "ispNtX_VRqPe"
      }
    },
    {
      "cell_type": "code",
      "source": [
        "from fuzzingbook.MutationFuzzer import MutationFuzzer\n",
        "seed_input = \"http://www.google.com/search?q=fuzzing\"\n",
        "mutation_fuzzer = MutationFuzzer(seed=[seed_input])\n",
        "[mutation_fuzzer.fuzz() for i in range(10)]\n"
      ],
      "metadata": {
        "colab": {
          "base_uri": "https://localhost:8080/"
        },
        "id": "QvJMpYa9Qx7g",
        "outputId": "55161ba4-d25a-4a4f-9d62-9c3a26db95d2"
      },
      "execution_count": null,
      "outputs": [
        {
          "output_type": "execute_result",
          "data": {
            "text/plain": [
              "['http://www.google.com/search?q=fuzzing',\n",
              " 'htdp:/www(W.wooglecom/search>q=fuzzing',\n",
              " 'ht|p://www.googulte.com/seUarcj?=uzzing',\n",
              " 'htp://_ww.google.c\\x7fmx/5cearch?q=fuzJzing',\n",
              " 'http://www.google~.com/searcl?q=fuzzing',\n",
              " 'http://www.gIoogle.com/sarch>q=fuzzing',\n",
              " \"http://www.'ogle.com/search?q=fuz{in\",\n",
              " 'i;htp://7ww.google.com/cee8rch?=fuzzqig',\n",
              " 'http*//www.golVe.com/search?qfuzzing',\n",
              " 'h4tp:/www.google.com/Asarch?q=fuzzing']"
            ]
          },
          "metadata": {},
          "execution_count": 18
        }
      ]
    },
    {
      "cell_type": "markdown",
      "source": [
        "## Motivación: Testing un Parseador de URL\n",
        "\n",
        "Muchos programas experan que sus entradas vengan en un formato especifico antes de que ellos actualmente puedan procesar la entrada. Por ejemplo, piense en un programa que acepta una URL. La URL tiene que estar en un formato valido, de tal forma que el programa pueda utilizarlo. Cuando hacemos fuzzing de entradas aleatorias, cual es la probabilidad de producir URL validas?\n",
        "\n",
        "Para ir mas a detalle al problema exploraremos como estan compuestas las URL. Una URL consiste en un numero de elementos\n",
        "\n",
        "scheme://netloc/path?query#fragment\n",
        "\n",
        "\n",
        "Donde:\n",
        "- scheme es un protocolo que se usa, por ejemplo, http, https, ftp, file ...\n",
        "- netloc es el nombre del host a conectarse, por ejemplo www.google.com\n",
        "- path es la dirección existente en un host, por ejemplo search\n",
        "- query es una lista de pares key/value, por ejemplo q=fuzzing\n",
        "- fragment es un marcador para una localización de un documento extraido, por ejemplo #result\n",
        "\n",
        "En python, podemos utilizar la función urlparse() para parsear y descomponer una URL en partes."
      ],
      "metadata": {
        "id": "ZBMDWIq2SnJ4"
      }
    },
    {
      "cell_type": "code",
      "source": [
        "urlparse(\"http://www.google.com/search?q=fuzzing\")"
      ],
      "metadata": {
        "colab": {
          "base_uri": "https://localhost:8080/"
        },
        "id": "R-F5dkK-Tm4O",
        "outputId": "36292df2-b7a9-458c-fae4-1a07f6991981"
      },
      "execution_count": null,
      "outputs": [
        {
          "output_type": "execute_result",
          "data": {
            "text/plain": [
              "ParseResult(scheme='http', netloc='www.google.com', path='/search', params='', query='q=fuzzing', fragment='')"
            ]
          },
          "metadata": {},
          "execution_count": 19
        }
      ]
    },
    {
      "cell_type": "markdown",
      "source": [
        "Podemos ver como los resultados muestran cada una de las partes de la URL.\n",
        "\n",
        "Asumamos que tenemos un programa que toma de entrada una URL. Para simplicar las cosas, haremos que nuestro programa solo verifique la valides de la URL. Si la URL es valida, retorna verdad, caso contrario, lanza una excepción."
      ],
      "metadata": {
        "id": "KoNiaQUQTv8O"
      }
    },
    {
      "cell_type": "code",
      "source": [
        "def http_program(url: str) -> bool:\n",
        "    supported_schemes = [\"http\", \"https\"]\n",
        "    result = urlparse(url)\n",
        "    if result.scheme not in supported_schemes:\n",
        "        raise ValueError(\"Scheme must be one of \" +\n",
        "                         repr(supported_schemes))\n",
        "    if result.netloc == '':\n",
        "        raise ValueError(\"Host must be non-empty\")\n",
        "\n",
        "    # Do something with the URL\n",
        "    return True"
      ],
      "metadata": {
        "id": "_so0LFCHUCFx"
      },
      "execution_count": null,
      "outputs": []
    },
    {
      "cell_type": "markdown",
      "source": [
        "Veamos ahora como hacer fuzzing de http_program(). Para hacer fuzzing, utilizaremos un rango de caracteres ASCII como por ejemplo :,/, y caracteres en minusculas.\n"
      ],
      "metadata": {
        "id": "TH3_cPGqUE8i"
      }
    },
    {
      "cell_type": "code",
      "source": [
        "from fuzzingbook.Fuzzer import fuzzer\n",
        "fuzzer(char_start=32, char_range=96)\n"
      ],
      "metadata": {
        "colab": {
          "base_uri": "https://localhost:8080/",
          "height": 35
        },
        "id": "taApfbXTUXMX",
        "outputId": "1444aa95-eaac-4e0a-f73d-2523a9136758"
      },
      "execution_count": null,
      "outputs": [
        {
          "output_type": "execute_result",
          "data": {
            "text/plain": [
              "'5QZ)~--[})Sdv#m*L0iHh[-MzS.U.X}fG7aA:G<bE\\x7fI\\'Ofn[\",Mx{@jft\\x7fo}i3D?7%V7XdtO6BjYEa#'"
            ],
            "application/vnd.google.colaboratory.intrinsic+json": {
              "type": "string"
            }
          },
          "metadata": {},
          "execution_count": 21
        }
      ]
    },
    {
      "cell_type": "markdown",
      "source": [
        "Ahora intenemos crear 1000 entradas aleatorias y ver si tenemos exito"
      ],
      "metadata": {
        "id": "EPZGxgxrUflI"
      }
    },
    {
      "cell_type": "code",
      "source": [
        "for i in range(1000):\n",
        "    try:\n",
        "        url = fuzzer()\n",
        "        result = http_program(url)\n",
        "        print(\"Success!\")\n",
        "    except ValueError:\n",
        "        pass"
      ],
      "metadata": {
        "id": "-B1dYzETUjCL"
      },
      "execution_count": null,
      "outputs": []
    },
    {
      "cell_type": "markdown",
      "source": [
        "Cual es la probabilidad de tener una URL valida? Necesitamos un string que empice con http:// o https://. Empezemos por ejemplo con \"http://\" primero. Estos siete caracters son los que necesitamos empezar. Las chances de producir estos 7 caracteres aletoriamente es 96 a la 7."
      ],
      "metadata": {
        "id": "9escMgHMUv7S"
      }
    },
    {
      "cell_type": "code",
      "source": [
        "96 ** 7"
      ],
      "metadata": {
        "colab": {
          "base_uri": "https://localhost:8080/"
        },
        "id": "ThFCvo1CVELJ",
        "outputId": "9d3a21bd-f5b1-4bf3-ebda-aa8f7395380e"
      },
      "execution_count": null,
      "outputs": [
        {
          "output_type": "execute_result",
          "data": {
            "text/plain": [
              "75144747810816"
            ]
          },
          "metadata": {},
          "execution_count": 23
        }
      ]
    },
    {
      "cell_type": "markdown",
      "source": [
        "Cual es la probabilidad de generar \"https://\""
      ],
      "metadata": {
        "id": "vKJtCEaUVPft"
      }
    },
    {
      "cell_type": "code",
      "source": [
        "96 ** 8"
      ],
      "metadata": {
        "id": "m5NeQ4PRVTnC",
        "colab": {
          "base_uri": "https://localhost:8080/"
        },
        "outputId": "e0cc4044-877d-46ea-d0df-49bd89ffbbe6"
      },
      "execution_count": null,
      "outputs": [
        {
          "output_type": "execute_result",
          "data": {
            "text/plain": [
              "7213895789838336"
            ]
          },
          "metadata": {},
          "execution_count": 24
        }
      ]
    },
    {
      "cell_type": "markdown",
      "source": [
        "Lo que nos da una probabilidad de"
      ],
      "metadata": {
        "id": "FR2VLZeXVVIr"
      }
    },
    {
      "cell_type": "code",
      "source": [
        "likelihood = 1 / (96 ** 7) + 1 / (96 ** 8)\n",
        "likelihood"
      ],
      "metadata": {
        "colab": {
          "base_uri": "https://localhost:8080/"
        },
        "id": "R9f9kaQFVZFE",
        "outputId": "14ac95df-8946-4ad9-de73-0ccf60aef1d1"
      },
      "execution_count": null,
      "outputs": [
        {
          "output_type": "execute_result",
          "data": {
            "text/plain": [
              "1.344627131107667e-14"
            ]
          },
          "metadata": {},
          "execution_count": 25
        }
      ]
    },
    {
      "cell_type": "markdown",
      "source": [
        "Si calculamos cuantas iteraciones necesitamos para producir esta entrada seria:"
      ],
      "metadata": {
        "id": "cOy1kFv5Vgd9"
      }
    },
    {
      "cell_type": "code",
      "source": [
        "1/likelihood"
      ],
      "metadata": {
        "colab": {
          "base_uri": "https://localhost:8080/"
        },
        "id": "_W8L79gNVkK_",
        "outputId": "5a03d482-8e46-4458-e3ff-90bd228d0470"
      },
      "execution_count": null,
      "outputs": [
        {
          "output_type": "execute_result",
          "data": {
            "text/plain": [
              "74370059689055.02"
            ]
          },
          "metadata": {},
          "execution_count": 26
        }
      ]
    },
    {
      "cell_type": "markdown",
      "source": [
        "Veamos cuanto tiempo toma realizar 1000 intentos\n"
      ],
      "metadata": {
        "id": "Tcqy2dPAVpDy"
      }
    },
    {
      "cell_type": "code",
      "source": [
        "trials = 1000\n",
        "with Timer() as t:\n",
        "    for i in range(trials):\n",
        "        try:\n",
        "            url = fuzzer()\n",
        "            result = http_program(url)\n",
        "            print(\"Success!\")\n",
        "        except ValueError:\n",
        "            pass\n",
        "\n",
        "duration_per_run_in_seconds = t.elapsed_time() / trials\n",
        "duration_per_run_in_seconds"
      ],
      "metadata": {
        "colab": {
          "base_uri": "https://localhost:8080/"
        },
        "id": "mWyd9eEPVuka",
        "outputId": "896cc672-0364-4580-bd8e-2024ec87d3b1"
      },
      "execution_count": null,
      "outputs": [
        {
          "output_type": "execute_result",
          "data": {
            "text/plain": [
              "5.782718099999329e-05"
            ]
          },
          "metadata": {},
          "execution_count": 27
        }
      ]
    },
    {
      "cell_type": "markdown",
      "source": [
        "Parece que es rápido, pero desafortunadamente son muchas ejecuciones"
      ],
      "metadata": {
        "id": "vZuZezFaVzP5"
      }
    },
    {
      "cell_type": "code",
      "source": [
        "seconds_until_success = duration_per_run_in_seconds * (1 / likelihood)\n",
        "seconds_until_success"
      ],
      "metadata": {
        "colab": {
          "base_uri": "https://localhost:8080/"
        },
        "id": "_vGdicrlV4OV",
        "outputId": "5c07b4b1-90e2-4093-b44f-e68165acf714"
      },
      "execution_count": null,
      "outputs": [
        {
          "output_type": "execute_result",
          "data": {
            "text/plain": [
              "4300610902.619288"
            ]
          },
          "metadata": {},
          "execution_count": 28
        }
      ]
    },
    {
      "cell_type": "markdown",
      "source": [
        "En años seria"
      ],
      "metadata": {
        "id": "67HruAN2V9s_"
      }
    },
    {
      "cell_type": "code",
      "source": [
        "hours_until_success = seconds_until_success / 3600\n",
        "days_until_success = hours_until_success / 24\n",
        "years_until_success = days_until_success / 365.25\n",
        "years_until_success"
      ],
      "metadata": {
        "colab": {
          "base_uri": "https://localhost:8080/"
        },
        "id": "KNo1b5IhV-3a",
        "outputId": "464bab95-2690-4739-e099-8688ab1633a6"
      },
      "execution_count": null,
      "outputs": [
        {
          "output_type": "execute_result",
          "data": {
            "text/plain": [
              "136.27813593617032"
            ]
          },
          "metadata": {},
          "execution_count": 29
        }
      ]
    },
    {
      "cell_type": "markdown",
      "source": [
        "Incluso si paralelizamos las cosas, todavia serian meses a años de espera. Por lo que no es una solución viable.\n",
        "\n"
      ],
      "metadata": {
        "id": "WX-Xs6mEWB-Z"
      }
    },
    {
      "cell_type": "markdown",
      "source": [
        "## Mutando Inputs\n",
        "\n",
        "La alternativa a generar cadenas (string) aleatorias es tomar una entrada valida y realizar mutaciones a la misma. Una mutación en este contexto es una modificación simple a una cadena, por ejemplo, insertando un caracter en algun lugar aletoria o intercambiar caracateres. A esto se le llama mutational fuzzing.\n",
        "\n",
        "Aqui algunas mutaciones para empezar:"
      ],
      "metadata": {
        "id": "bnPKgTGBWTAg"
      }
    },
    {
      "cell_type": "code",
      "source": [
        "import random\n",
        "def delete_random_character(s: str) -> str:\n",
        "    \"\"\"Returns s with a random character deleted\"\"\"\n",
        "    if s == \"\":\n",
        "        return s\n",
        "\n",
        "    pos = random.randint(0, len(s) - 1)\n",
        "    # print(\"Deleting\", repr(s[pos]), \"at\", pos)\n",
        "    return s[:pos] + s[pos + 1:]"
      ],
      "metadata": {
        "id": "Co1z6jfyW1ci"
      },
      "execution_count": null,
      "outputs": []
    },
    {
      "cell_type": "code",
      "source": [
        "seed_input = \"A quick brown fox\"\n",
        "for i in range(10):\n",
        "    x = delete_random_character(seed_input)\n",
        "    print(repr(x))"
      ],
      "metadata": {
        "colab": {
          "base_uri": "https://localhost:8080/"
        },
        "id": "oQbQxkIQW5Lq",
        "outputId": "2df51d35-c212-4344-a64c-b1206044498b"
      },
      "execution_count": null,
      "outputs": [
        {
          "output_type": "stream",
          "name": "stdout",
          "text": [
            "'A quick bown fox'\n",
            "'A quick brow fox'\n",
            "'A quick brown fo'\n",
            "'A quick brwn fox'\n",
            "'A qick brown fox'\n",
            "'A quick brwn fox'\n",
            "'A quic brown fox'\n",
            "'A quick bron fox'\n",
            "'A quick bown fox'\n",
            "'A quickbrown fox'\n"
          ]
        }
      ]
    },
    {
      "cell_type": "code",
      "source": [
        "def insert_random_character(s: str) -> str:\n",
        "    \"\"\"Returns s with a random character inserted\"\"\"\n",
        "    pos = random.randint(0, len(s))\n",
        "    random_character = chr(random.randrange(32, 127))\n",
        "    # print(\"Inserting\", repr(random_character), \"at\", pos)\n",
        "    return s[:pos] + random_character + s[pos:]"
      ],
      "metadata": {
        "id": "hvLwz9VVW9V1"
      },
      "execution_count": null,
      "outputs": []
    },
    {
      "cell_type": "code",
      "source": [
        "for i in range(10):\n",
        "    print(repr(insert_random_character(seed_input)))"
      ],
      "metadata": {
        "colab": {
          "base_uri": "https://localhost:8080/"
        },
        "id": "nYlf2jUWW_o8",
        "outputId": "3b264d83-a01a-4caf-8968-06e62b6983c4"
      },
      "execution_count": null,
      "outputs": [
        {
          "output_type": "stream",
          "name": "stdout",
          "text": [
            "'A quick broWwn fox'\n",
            "'A quick brown foGx'\n",
            "'A quick brown ?fox'\n",
            "'A quick brownk fox'\n",
            "'A quick brownN fox'\n",
            "'A qu]ick brown fox'\n",
            "'A quiVck brown fox'\n",
            "'A quick bro?wn fox'\n",
            "'A quick brown fWox'\n",
            "'$A quick brown fox'\n"
          ]
        }
      ]
    },
    {
      "cell_type": "code",
      "source": [
        "def flip_random_character(s):\n",
        "    \"\"\"Returns s with a random bit flipped in a random position\"\"\"\n",
        "    if s == \"\":\n",
        "        return s\n",
        "\n",
        "    pos = random.randint(0, len(s) - 1)\n",
        "    c = s[pos]\n",
        "    bit = 1 << random.randint(0, 6)\n",
        "    new_c = chr(ord(c) ^ bit)\n",
        "    # print(\"Flipping\", bit, \"in\", repr(c) + \", giving\", repr(new_c))\n",
        "    return s[:pos] + new_c + s[pos + 1:]"
      ],
      "metadata": {
        "id": "mrSSnIDlXCan"
      },
      "execution_count": null,
      "outputs": []
    },
    {
      "cell_type": "code",
      "source": [
        "for i in range(10):\n",
        "    print(repr(flip_random_character(seed_input)))"
      ],
      "metadata": {
        "colab": {
          "base_uri": "https://localhost:8080/"
        },
        "id": "QUemSCoIXEY2",
        "outputId": "3cbf12e6-52ae-43c5-83ed-8a001e4fd05a"
      },
      "execution_count": null,
      "outputs": [
        {
          "output_type": "stream",
          "name": "stdout",
          "text": [
            "'A qUick brown fox'\n",
            "'A quic{ brown fox'\n",
            "'A\\x00quick brown fox'\n",
            "'A$quick brown fox'\n",
            "'A quick\\x00brown fox'\n",
            "'A quick brown foX'\n",
            "'A quick brown fo8'\n",
            "'A quick browN fox'\n",
            "'A quick broWn fox'\n",
            "'A quick brown &ox'\n"
          ]
        }
      ]
    },
    {
      "cell_type": "markdown",
      "source": [
        "Ahora definamos un mutador aleatorio que escoge un tipo de mutación de forma aleatoria:"
      ],
      "metadata": {
        "id": "PTb-P-u-XIuB"
      }
    },
    {
      "cell_type": "code",
      "source": [
        "def mutate(s: str) -> str:\n",
        "    \"\"\"Return s with a random mutation applied\"\"\"\n",
        "    mutators = [\n",
        "        delete_random_character,\n",
        "        insert_random_character,\n",
        "        flip_random_character\n",
        "    ]\n",
        "    mutator = random.choice(mutators)\n",
        "    # print(mutator)\n",
        "    return mutator(s)"
      ],
      "metadata": {
        "id": "ioFdpO21XM11"
      },
      "execution_count": null,
      "outputs": []
    },
    {
      "cell_type": "code",
      "source": [
        "for i in range(10):\n",
        "    print(repr(mutate(\"A quick brown fox\")))"
      ],
      "metadata": {
        "colab": {
          "base_uri": "https://localhost:8080/"
        },
        "id": "WtA1bZJ3XOpu",
        "outputId": "37c9bdee-637f-4ac9-f6f1-351ba21fdfd0"
      },
      "execution_count": null,
      "outputs": [
        {
          "output_type": "stream",
          "name": "stdout",
          "text": [
            "'A qumck brown fox'\n",
            "'A quicbk brown fox'\n",
            "'A quick brow1n fox'\n",
            "'A quick brown wfox'\n",
            "'A quick +brown fox'\n",
            "'A quick brogn fox'\n",
            "'A quick rown fox'\n",
            "'A quick `rown fox'\n",
            "'A qui|ck brown fox'\n",
            "'A quick brown fo'\n"
          ]
        }
      ]
    },
    {
      "cell_type": "markdown",
      "source": [
        "## Mutando URLs\n",
        "\n",
        "Ahora que tenemos un conjunto de mutadores podemos aplicar la tecnica al problema del parseo de URL. Para esto primero creemos una función llamada is_valid_url() que verifica si el http_program() acepta la entrada."
      ],
      "metadata": {
        "id": "TX8w49AKXguS"
      }
    },
    {
      "cell_type": "code",
      "source": [
        "def is_valid_url(url: str) -> bool:\n",
        "    try:\n",
        "        result = http_program(url)\n",
        "        return True\n",
        "    except ValueError:\n",
        "        return False"
      ],
      "metadata": {
        "id": "GoxaCvHeXuR2"
      },
      "execution_count": null,
      "outputs": []
    },
    {
      "cell_type": "code",
      "source": [
        "assert is_valid_url(\"http://www.google.com/search?q=fuzzing\")\n",
        "assert not is_valid_url(\"xyzzy\")"
      ],
      "metadata": {
        "id": "9rvs2CT9Xxmi",
        "colab": {
          "base_uri": "https://localhost:8080/",
          "height": 294
        },
        "outputId": "9a96c88f-730d-4d3a-e7c2-2a322b073ad2"
      },
      "execution_count": null,
      "outputs": [
        {
          "output_type": "error",
          "ename": "NameError",
          "evalue": "name 'http_program' is not defined",
          "traceback": [
            "\u001b[0;31m---------------------------------------------------------------------------\u001b[0m",
            "\u001b[0;31mNameError\u001b[0m                                 Traceback (most recent call last)",
            "\u001b[0;32m<ipython-input-20-1f7a5dc05a74>\u001b[0m in \u001b[0;36m<cell line: 1>\u001b[0;34m()\u001b[0m\n\u001b[0;32m----> 1\u001b[0;31m \u001b[0;32massert\u001b[0m \u001b[0mis_valid_url\u001b[0m\u001b[0;34m(\u001b[0m\u001b[0;34m\"http://www.google.com/search?q=fuzzing\"\u001b[0m\u001b[0;34m)\u001b[0m\u001b[0;34m\u001b[0m\u001b[0;34m\u001b[0m\u001b[0m\n\u001b[0m\u001b[1;32m      2\u001b[0m \u001b[0;32massert\u001b[0m \u001b[0;32mnot\u001b[0m \u001b[0mis_valid_url\u001b[0m\u001b[0;34m(\u001b[0m\u001b[0;34m\"xyzzy\"\u001b[0m\u001b[0;34m)\u001b[0m\u001b[0;34m\u001b[0m\u001b[0;34m\u001b[0m\u001b[0m\n",
            "\u001b[0;32m<ipython-input-19-d307d220296d>\u001b[0m in \u001b[0;36mis_valid_url\u001b[0;34m(url)\u001b[0m\n\u001b[1;32m      1\u001b[0m \u001b[0;32mdef\u001b[0m \u001b[0mis_valid_url\u001b[0m\u001b[0;34m(\u001b[0m\u001b[0murl\u001b[0m\u001b[0;34m:\u001b[0m \u001b[0mstr\u001b[0m\u001b[0;34m)\u001b[0m \u001b[0;34m->\u001b[0m \u001b[0mbool\u001b[0m\u001b[0;34m:\u001b[0m\u001b[0;34m\u001b[0m\u001b[0;34m\u001b[0m\u001b[0m\n\u001b[1;32m      2\u001b[0m     \u001b[0;32mtry\u001b[0m\u001b[0;34m:\u001b[0m\u001b[0;34m\u001b[0m\u001b[0;34m\u001b[0m\u001b[0m\n\u001b[0;32m----> 3\u001b[0;31m         \u001b[0mresult\u001b[0m \u001b[0;34m=\u001b[0m \u001b[0mhttp_program\u001b[0m\u001b[0;34m(\u001b[0m\u001b[0murl\u001b[0m\u001b[0;34m)\u001b[0m\u001b[0;34m\u001b[0m\u001b[0;34m\u001b[0m\u001b[0m\n\u001b[0m\u001b[1;32m      4\u001b[0m         \u001b[0;32mreturn\u001b[0m \u001b[0;32mTrue\u001b[0m\u001b[0;34m\u001b[0m\u001b[0;34m\u001b[0m\u001b[0m\n\u001b[1;32m      5\u001b[0m     \u001b[0;32mexcept\u001b[0m \u001b[0mValueError\u001b[0m\u001b[0;34m:\u001b[0m\u001b[0;34m\u001b[0m\u001b[0;34m\u001b[0m\u001b[0m\n",
            "\u001b[0;31mNameError\u001b[0m: name 'http_program' is not defined"
          ]
        }
      ]
    },
    {
      "cell_type": "markdown",
      "source": [
        "Ahora apliquemos la funcion mutate tomando una URL valida de entrada y veamos que optenemos:"
      ],
      "metadata": {
        "id": "yxWt6gNCX0ym"
      }
    },
    {
      "cell_type": "code",
      "source": [
        "seed_input = \"http://www.google.com/search?q=fuzzing\"\n",
        "valid_inputs = set()\n",
        "trials = 20\n",
        "\n",
        "for i in range(trials):\n",
        "    inp = mutate(seed_input)\n",
        "    if is_valid_url(inp):\n",
        "        valid_inputs.add(inp)\n",
        "valid_inputs"
      ],
      "metadata": {
        "colab": {
          "base_uri": "https://localhost:8080/"
        },
        "id": "2CPaCVIOX8OD",
        "outputId": "a4b2bd5f-c0cd-4ba6-90ef-8a46cf6487a0"
      },
      "execution_count": null,
      "outputs": [
        {
          "output_type": "execute_result",
          "data": {
            "text/plain": [
              "{'http://www.*google.com/search?q=fuzzing',\n",
              " 'http://www.google,com/search?q=fuzzing',\n",
              " 'http://www.google.cDom/search?q=fuzzing',\n",
              " 'http://www.google.co$m/search?q=fuzzing',\n",
              " 'http://www.google.com/qsearch?q=fuzzing',\n",
              " 'http://www.google.com/sPearch?q=fuzzing',\n",
              " 'http://www.google.com/searCh?q=fuzzing',\n",
              " 'http://www.google.com/search?hq=fuzzing',\n",
              " 'http://www.google.com/search?q=fuzjing',\n",
              " 'http://www.google.com/search?q=fuzzig',\n",
              " 'http://www.google.com/search?q=gfuzzing',\n",
              " 'http://www.google.com/search?q=uzzing',\n",
              " 'http://www.google.com/search?q?fuzzing',\n",
              " 'http://www.google.com/searchq=fuzzing',\n",
              " 'http://www.googne.com/search?q=fuzzing',\n",
              " 'http://www.oogle.com/search?q=fuzzing'}"
            ]
          },
          "metadata": {},
          "execution_count": 40
        }
      ]
    },
    {
      "cell_type": "markdown",
      "source": [
        "Ahora podemos observar que mutando una URL original podemos prodcuir entradas validas. La probabilidad seria:\n"
      ],
      "metadata": {
        "id": "nyg4bzCGYFU6"
      }
    },
    {
      "cell_type": "code",
      "source": [
        "len(valid_inputs) / trials\n"
      ],
      "metadata": {
        "colab": {
          "base_uri": "https://localhost:8080/"
        },
        "id": "KnOYiWUhYMfu",
        "outputId": "34c1885e-ecf0-4d36-ba06-63de75403607"
      },
      "execution_count": null,
      "outputs": [
        {
          "output_type": "execute_result",
          "data": {
            "text/plain": [
              "0.8"
            ]
          },
          "metadata": {},
          "execution_count": 41
        }
      ]
    },
    {
      "cell_type": "markdown",
      "source": [
        "## Multiple Mutations\n",
        "\n",
        "Hasta el momento solo hemos aplicado un mutacion en una cadena. Sin embargo, podemos aplicar multiple mutaciones a la misma cadena para cambiara aun mas. Que sucederia por ejemplo, si aplicamos 20 mutaciones a una cadena?"
      ],
      "metadata": {
        "id": "wly04q8WYu0s"
      }
    },
    {
      "cell_type": "code",
      "source": [
        "seed_input = \"http://www.google.com/search?q=fuzzing\"\n",
        "mutations = 50"
      ],
      "metadata": {
        "id": "nKOenkzYY81Z"
      },
      "execution_count": null,
      "outputs": []
    },
    {
      "cell_type": "code",
      "source": [
        "inp = seed_input\n",
        "for i in range(mutations):\n",
        "    if i % 5 == 0:\n",
        "        print(i, \"mutations:\", repr(inp))\n",
        "    inp = mutate(inp)"
      ],
      "metadata": {
        "colab": {
          "base_uri": "https://localhost:8080/"
        },
        "id": "1axliThwY-dl",
        "outputId": "fb5923f5-4a87-4700-db18-970a54d63be0"
      },
      "execution_count": null,
      "outputs": [
        {
          "output_type": "stream",
          "name": "stdout",
          "text": [
            "0 mutations: 'http://www.google.com/search?q=fuzzing'\n",
            "5 mutations: 'http://www\\x0eooogle.cm/search?=fuzz~ing'\n",
            "10 mutations: 'PhttpT://$wsw\\x0eooogle.cm/suearch?=fuzz~ing'\n",
            "15 mutations: 'PhttT://wsw\\x0eoooge>c|m/suearch?=fuzz~ing'\n",
            "20 mutations: 'PtT://wsw\\x0eooge>c|m/sue\"arch?=fuzr~ing'\n",
            "25 mutations: 'PtT://wsw\\x0eooge>c|m/sue\"rchs?=f5r~ing*'\n",
            "30 mutations: 'PtT://wsw\\x0eoge>cz|m/sue\"rcs?=f5p~iqng*'\n",
            "35 mutations: 'PtT://wisw\\x0eoce>cz|m/su%\"rgs=f5p~iqng*'\n",
            "40 mutations: 'PtT:%//wiIsw/\\x0eoce>cz|m/s%\"rgs=f5ps~iqng*'\n",
            "45 mutations: 'PtT:%/\\'wiIsw/\\x0eoc>cz|m/s%\"gs=f5ps~iqng*?S'\n"
          ]
        }
      ]
    },
    {
      "cell_type": "markdown",
      "source": [
        "Como se puede ver la semilla original de entrada es dificil de reconocer. Si mutamos muchas veces, tenemos una mayor variedad de entradas.\n",
        "\n",
        "Para implementar este tipo de mutaciones, introduciremos la clase MutationFuzzer. Que toma de entrada una lista de string, un numero minimo y maximo de mutaciones."
      ],
      "metadata": {
        "id": "um_x7AK8ZCtt"
      }
    },
    {
      "cell_type": "code",
      "source": [
        "class MutationFuzzer(Fuzzer):\n",
        "    \"\"\"Base class for mutational fuzzing\"\"\"\n",
        "\n",
        "    def __init__(self, seed: List[str],\n",
        "                 min_mutations: int = 2,\n",
        "                 max_mutations: int = 10) -> None:\n",
        "        \"\"\"Constructor.\n",
        "        `seed` - a list of (input) strings to mutate.\n",
        "        `min_mutations` - the minimum number of mutations to apply.\n",
        "        `max_mutations` - the maximum number of mutations to apply.\n",
        "        \"\"\"\n",
        "        self.seed = seed\n",
        "        self.min_mutations = min_mutations\n",
        "        self.max_mutations = max_mutations\n",
        "        self.reset()\n",
        "\n",
        "    def reset(self) -> None:\n",
        "        \"\"\"Set population to initial seed.\n",
        "        To be overloaded in subclasses.\"\"\"\n",
        "        self.population = self.seed\n",
        "        self.seed_index = 0\n"
      ],
      "metadata": {
        "id": "yCuM-VoAZV-1"
      },
      "execution_count": null,
      "outputs": []
    },
    {
      "cell_type": "markdown",
      "source": [
        "A continuación, desarrollaremos MutationFuzzer agregandole mas metodos. Para ir agregando método por método a la clase utilizaremos un hack de python: Donde queramos introducir un nuevo método a una clase C, usaremos el siguiente patron:\n"
      ],
      "metadata": {
        "id": "xj9Yz0o6ZmxO"
      }
    },
    {
      "cell_type": "code",
      "source": [
        "class MutationFuzzer(MutationFuzzer):\n",
        "    def mutate(self, inp: str) -> str:\n",
        "        return mutate(inp)"
      ],
      "metadata": {
        "id": "6A7Z4XcBZ6El"
      },
      "execution_count": null,
      "outputs": []
    },
    {
      "cell_type": "markdown",
      "source": [
        "El código anterior agrega el metodo mutate a la clase MutationFuzzer. Ahora volvamos a la estrategia de maximizar la diversidad en nuestra población. Primero, crearemos un método que cree un candidato, el cual eliga aleatoriamente algunas entradas de nuestra poblacion y aplica un numero de mutaciones entre el minimo y maximo definidos."
      ],
      "metadata": {
        "id": "oJIZ-F9yaD5U"
      }
    },
    {
      "cell_type": "code",
      "source": [
        "class MutationFuzzer(MutationFuzzer):\n",
        "    def create_candidate(self) -> str:\n",
        "        \"\"\"Create a new candidate by mutating a population member\"\"\"\n",
        "        candidate = random.choice(self.population)\n",
        "        trials = random.randint(self.min_mutations, self.max_mutations)\n",
        "        for i in range(trials):\n",
        "            candidate = self.mutate(candidate)\n",
        "        return candidate"
      ],
      "metadata": {
        "id": "hZzVYJ0DaW0o"
      },
      "execution_count": null,
      "outputs": []
    },
    {
      "cell_type": "markdown",
      "source": [
        "El método fuzz() permitira extraer una por una las semillas y cuando no existan mas semillas empezara a crear mutaciones:"
      ],
      "metadata": {
        "id": "SiSvdMegaY8m"
      }
    },
    {
      "cell_type": "code",
      "source": [
        "class MutationFuzzer(MutationFuzzer):\n",
        "    def fuzz(self) -> str:\n",
        "        if self.seed_index < len(self.seed):\n",
        "            # Still seeding\n",
        "            self.inp = self.seed[self.seed_index]\n",
        "            self.seed_index += 1\n",
        "        else:\n",
        "            # Mutating\n",
        "            self.inp = self.create_candidate()\n",
        "        return self.inp"
      ],
      "metadata": {
        "id": "gglAHXgJavjP"
      },
      "execution_count": null,
      "outputs": []
    },
    {
      "cell_type": "markdown",
      "source": [
        "Aqui es donde utilizamos el método fuzz(). Para cada invocacion al método fuzz(), tenemos otra variate con multiple mutaciones aplicadas.\n",
        "\n"
      ],
      "metadata": {
        "id": "eZSIlMoaaxX4"
      }
    },
    {
      "cell_type": "code",
      "source": [
        "seed_input = \"http://www.google.com/search?q=fuzzing\"\n",
        "mutation_fuzzer = MutationFuzzer(seed=[seed_input])\n",
        "mutation_fuzzer.fuzz()"
      ],
      "metadata": {
        "colab": {
          "base_uri": "https://localhost:8080/",
          "height": 35
        },
        "id": "BuJ7_TSha7jw",
        "outputId": "fd6e6fdb-c3a3-4666-e767-58d3d5ca349a"
      },
      "execution_count": null,
      "outputs": [
        {
          "output_type": "execute_result",
          "data": {
            "text/plain": [
              "'http://www.google.com/search?q=fuzzing'"
            ],
            "application/vnd.google.colaboratory.intrinsic+json": {
              "type": "string"
            }
          },
          "metadata": {},
          "execution_count": 48
        }
      ]
    },
    {
      "cell_type": "code",
      "source": [
        "mutation_fuzzer.fuzz()\n"
      ],
      "metadata": {
        "colab": {
          "base_uri": "https://localhost:8080/",
          "height": 35
        },
        "id": "8wHVHbqra-Dc",
        "outputId": "335eac47-1fdb-43bb-a56d-ec7f5ef94864"
      },
      "execution_count": null,
      "outputs": [
        {
          "output_type": "execute_result",
          "data": {
            "text/plain": [
              "'htpp://www.google.col/search?q=fuzzing'"
            ],
            "application/vnd.google.colaboratory.intrinsic+json": {
              "type": "string"
            }
          },
          "metadata": {},
          "execution_count": 49
        }
      ]
    },
    {
      "cell_type": "markdown",
      "source": [
        "Mientras mas grande sea la variedad de entradas, incrementara el riesgo de tener una entrada valida. La clave del proceso es la idea de guiar las mutaciones, manteniendo aquellas que son especialmente valuables."
      ],
      "metadata": {
        "id": "xSE_6ruebF7Z"
      }
    },
    {
      "cell_type": "markdown",
      "source": [
        "## Guiando las mutaciones con el coverage\n",
        "\n"
      ],
      "metadata": {
        "id": "HGWxUASubRpZ"
      }
    },
    {
      "cell_type": "code",
      "source": [
        "class FunctionRunner(Runner):\n",
        "    def __init__(self, function: Callable) -> None:\n",
        "        \"\"\"Initialize.  `function` is a function to be executed\"\"\"\n",
        "        self.function = function\n",
        "\n",
        "    def run_function(self, inp: str) -> Any:\n",
        "        return self.function(inp)\n",
        "\n",
        "    def run(self, inp: str) -> Tuple[Any, str]:\n",
        "        try:\n",
        "            result = self.run_function(inp)\n",
        "            outcome = self.PASS\n",
        "        except Exception:\n",
        "            result = None\n",
        "            outcome = self.FAIL\n",
        "\n",
        "        return result, outcome"
      ],
      "metadata": {
        "id": "fkBICzWXbmsG"
      },
      "execution_count": null,
      "outputs": []
    },
    {
      "cell_type": "code",
      "source": [
        "http_runner = FunctionRunner(http_program)\n",
        "http_runner.run(\"https://foo.bar/\")"
      ],
      "metadata": {
        "colab": {
          "base_uri": "https://localhost:8080/"
        },
        "id": "9wgy0F6EbsxE",
        "outputId": "9b12fece-333b-4181-e731-fe0dc42f46b0"
      },
      "execution_count": null,
      "outputs": [
        {
          "output_type": "execute_result",
          "data": {
            "text/plain": [
              "(True, 'PASS')"
            ]
          },
          "metadata": {},
          "execution_count": 119
        }
      ]
    },
    {
      "cell_type": "markdown",
      "source": [
        "Ahora podemos extender la funcionalidad de FunctionRunner que tambien mide el coverage. Despues de invokar run(), el método coverage retorna el coverage obtenido en la ultima corrida."
      ],
      "metadata": {
        "id": "PM66tMd0b2yu"
      }
    },
    {
      "cell_type": "code",
      "source": [
        "from typing import Any, Optional, Callable, List, Type, Set, Tuple\n",
        "from types import FrameType, TracebackType\n",
        "import sys\n",
        "Location = Tuple[str, int]\n",
        "\n",
        "class CoverageM:\n",
        "    \"\"\"Track coverage within a `with` block. Use as\n",
        "    ```\n",
        "    with Coverage() as cov:\n",
        "        function_to_be_traced()\n",
        "    c = cov.coverage()\n",
        "    ```\n",
        "    \"\"\"\n",
        "\n",
        "    def __init__(self) -> None:\n",
        "        \"\"\"Constructor\"\"\"\n",
        "        self._trace: List[Location] = []\n",
        "\n",
        "    # Trace function\n",
        "    def traceit(self, frame: FrameType, event: str, arg: Any) -> Optional[Callable]:\n",
        "        \"\"\"Tracing function. To be overloaded in subclasses.\"\"\"\n",
        "        if self.original_trace_function is not None:\n",
        "            self.original_trace_function(frame, event, arg)\n",
        "\n",
        "        if event == \"line\":\n",
        "            function_name = frame.f_code.co_name\n",
        "            lineno = frame.f_lineno\n",
        "            if function_name != '__exit__':  # avoid tracing ourselves:\n",
        "                self._trace.append((function_name, lineno))\n",
        "\n",
        "        return self.traceit\n",
        "\n",
        "    def __enter__(self) -> Any:\n",
        "        \"\"\"Start of `with` block. Turn on tracing.\"\"\"\n",
        "        self.original_trace_function = sys.gettrace()\n",
        "        sys.settrace(self.traceit)\n",
        "        return self\n",
        "\n",
        "    def __exit__(self, exc_type: Type, exc_value: BaseException,\n",
        "                 tb: TracebackType) -> Optional[bool]:\n",
        "        \"\"\"End of `with` block. Turn off tracing.\"\"\"\n",
        "        sys.settrace(self.original_trace_function)\n",
        "        return None  # default: pass all exceptions\n",
        "\n",
        "    def trace(self) -> List[Location]:\n",
        "        \"\"\"The list of executed lines, as (function_name, line_number) pairs\"\"\"\n",
        "        return self._trace\n",
        "\n",
        "    def coverage(self) -> Set[Location]:\n",
        "        \"\"\"The set of executed lines, as (function_name, line_number) pairs\"\"\"\n",
        "        return set(self.trace())\n",
        "\n",
        "    def function_names(self) -> Set[str]:\n",
        "        \"\"\"The set of function names seen\"\"\"\n",
        "        return set(function_name for (function_name, line_number) in self.coverage())\n",
        "\n",
        "    def __repr__(self) -> str:\n",
        "        \"\"\"Return a string representation of this object.\n",
        "           Show covered (and uncovered) program code\"\"\"\n",
        "        t = \"\"\n",
        "        for function_name in self.function_names():\n",
        "            # Similar code as in the example above\n",
        "            try:\n",
        "                fun = eval(function_name)\n",
        "            except Exception as exc:\n",
        "                t += f\"Skipping {function_name}: {exc}\"\n",
        "                continue\n",
        "\n",
        "            source_lines, start_line_number = inspect.getsourcelines(fun)\n",
        "            for lineno in range(start_line_number, start_line_number + len(source_lines)):\n",
        "                if (function_name, lineno) not in self.trace():\n",
        "                    t += \"# \"\n",
        "                else:\n",
        "                    t += \"  \"\n",
        "                t += \"%2d  \" % lineno\n",
        "                t += source_lines[lineno - start_line_number]\n",
        "\n",
        "        return t"
      ],
      "metadata": {
        "id": "AFZe8Mz2PMZz"
      },
      "execution_count": null,
      "outputs": []
    },
    {
      "cell_type": "code",
      "source": [
        "class FunctionCoverageRunner(FunctionRunner):\n",
        "    def run_function(self, inp: str) -> Any:\n",
        "        with CoverageM() as cov:\n",
        "            try:\n",
        "                result = super().run_function(inp)\n",
        "            except Exception as exc:\n",
        "                self._coverage = cov.coverage()\n",
        "                raise exc\n",
        "        self._coverage = cov.coverage()\n",
        "        return result\n",
        "\n",
        "    def coverage(self) -> Set[Location]:\n",
        "        return self._coverage"
      ],
      "metadata": {
        "id": "wUfz7QeBcBQU"
      },
      "execution_count": null,
      "outputs": []
    },
    {
      "cell_type": "code",
      "source": [
        "http_runner = FunctionCoverageRunner(http_program)\n",
        "http_runner.run(\"https://foo.bar/\")"
      ],
      "metadata": {
        "colab": {
          "base_uri": "https://localhost:8080/"
        },
        "id": "xxWjGWxacFPm",
        "outputId": "e1d16746-bc83-401f-c0d9-0b5efc5e199c"
      },
      "execution_count": null,
      "outputs": [
        {
          "output_type": "execute_result",
          "data": {
            "text/plain": [
              "(True, 'PASS')"
            ]
          },
          "metadata": {},
          "execution_count": 123
        }
      ]
    },
    {
      "cell_type": "markdown",
      "source": [
        "Los cinco statements cubiertos son:\n"
      ],
      "metadata": {
        "id": "80fHy4CmciSC"
      }
    },
    {
      "cell_type": "code",
      "source": [
        "print(list(http_runner.coverage())[:5])"
      ],
      "metadata": {
        "colab": {
          "base_uri": "https://localhost:8080/"
        },
        "id": "71A_TxU1coLJ",
        "outputId": "2c9be8a2-8380-4991-ae7e-f4484d5f79b8"
      },
      "execution_count": null,
      "outputs": [
        {
          "output_type": "stream",
          "name": "stdout",
          "text": [
            "[('urlsplit', 475), ('extract_stack', 225), ('extract', 358), ('_get_stack_str', 42), ('splitext', 124)]\n"
          ]
        }
      ]
    },
    {
      "cell_type": "markdown",
      "source": [
        "Mantenemos la poblacion y un conjunto de coverage guardados en coverages_seen. La función fuzz toma la entrada y corre la función con ella. Si el coverage es nuevo, es decir no esta en los coverages vistos (coverages_seen), la entrada es agregada a la poblacion y a la lista de coverages vistos."
      ],
      "metadata": {
        "id": "UajTYklZUv2E"
      }
    },
    {
      "cell_type": "code",
      "source": [
        "class MutationCoverageFuzzer(MutationFuzzer):\n",
        "    \"\"\"Fuzz with mutated inputs based on coverage\"\"\"\n",
        "\n",
        "    def reset(self) -> None:\n",
        "        super().reset()\n",
        "        self.coverages_seen: Set[frozenset] = set()\n",
        "        # Now empty; we fill this with seed in the first fuzz runs\n",
        "        self.population = []\n",
        "\n",
        "    def run(self, runner: FunctionCoverageRunner) -> Any:\n",
        "        \"\"\"Run function(inp) while tracking coverage.\n",
        "           If we reach new coverage,\n",
        "           add inp to population and its coverage to population_coverage\n",
        "        \"\"\"\n",
        "        result, outcome = super().run(runner)\n",
        "        new_coverage = frozenset(runner.coverage())\n",
        "        if outcome == Runner.PASS and new_coverage not in self.coverages_seen:\n",
        "            # We have new coverage\n",
        "            self.population.append(self.inp)\n",
        "            self.coverages_seen.add(new_coverage)\n",
        "\n",
        "        return result"
      ],
      "metadata": {
        "id": "LEidxKCuVIZ_"
      },
      "execution_count": null,
      "outputs": []
    },
    {
      "cell_type": "markdown",
      "source": [
        "Ahora utilizamos la clase con nuestras mejoras."
      ],
      "metadata": {
        "id": "2RiSrL9_VL5j"
      }
    },
    {
      "cell_type": "code",
      "source": [
        "seed_input = \"http://www.google.com/search?q=fuzzing\"\n",
        "mutation_fuzzer = MutationCoverageFuzzer(seed=[seed_input])\n",
        "mutation_fuzzer.runs(http_runner, trials=10000)\n",
        "mutation_fuzzer.population"
      ],
      "metadata": {
        "colab": {
          "base_uri": "https://localhost:8080/"
        },
        "id": "aSJ1vj5BVf-p",
        "outputId": "4b282add-2589-4396-b912-0bcd1b3fecbe"
      },
      "execution_count": null,
      "outputs": [
        {
          "output_type": "execute_result",
          "data": {
            "text/plain": [
              "['http://www.google.com/search?q=fuzzing',\n",
              " 'http://www.Ngoogle.com/searCh>q=fuzi=ng',\n",
              " 'http://www.Ngoogle.co|meaVCh>q=fuzi=ng',\n",
              " 'http://www.sN@NKgoogle.com/searC>q=fuzi=',\n",
              " 'http://www.rN@fKgooglencom/sarC?q=0fuFzi[=',\n",
              " 'httP://wvw.google.com/se<arch?qh=fuzzing#',\n",
              " 'http://ww.sN@FKgoogle.#om/{earC>q=gu&i9',\n",
              " 'http://w.sN@FKgnogle/#om/{earC?q=gu&i9',\n",
              " 'httP://wvw.google.bom/se<arch?qh=?f%uxjinG#',\n",
              " 'http://www.r@KgooDghensom/sarC;q=0f>uFi[/=',\n",
              " 'http://www.r@KgooDhensom/sar\\x03;q=0f>uFi[o=',\n",
              " 'http://wwwr@KgooDhensom/sar\\x03;q?0fuFi[o=',\n",
              " 'http://www>rHggoghenom/sarC;=n0f>uFi[/',\n",
              " 'http://wvwr@GmooDhenom/jsar\\x03;q?0fui[o=',\n",
              " 'http://www.Ngoogle.co\\\\|meaCh>1=fuJzi=ng',\n",
              " 'http://\\x7fww.r@KgooDhensom/3ar\\x03;q=0f>uF[o=',\n",
              " \"http://wwwr@KgooDhensom/saLr\\x03;q?#0fuVi['o=\",\n",
              " \"http://wwwr@KgooDhe.som/saLr\\x03;q?#0fuVi['o=c\",\n",
              " \"http://wwr@KgooDlensom/saLr\\x03;q#0fui['o=\",\n",
              " \"http://wwwr@KgooDhe.om/saLr\\x03h;q/#0fuVi['o=c\",\n",
              " \"http://wwwr@Kgo*Dhe8.Om/saLr\\x03h;qY/#0fuVI['o=co\",\n",
              " \"http://6wwr@KgooDlensom/saLp\\x03;q#0fui['o=\"]"
            ]
          },
          "metadata": {},
          "execution_count": 126
        }
      ]
    },
    {
      "cell_type": "markdown",
      "source": [
        "Lo logramos, nuestra poblacion, cada entrada ahora es valida y tiene diferente coverage."
      ],
      "metadata": {
        "id": "vTmap6iSWBil"
      }
    },
    {
      "cell_type": "code",
      "source": [
        "all_coverage, cumulative_coverage = population_coverage(\n",
        "    mutation_fuzzer.population, http_program)\n"
      ],
      "metadata": {
        "id": "C8XzrxLzV-XG"
      },
      "execution_count": null,
      "outputs": []
    },
    {
      "cell_type": "code",
      "source": [
        "import matplotlib.pyplot as plt"
      ],
      "metadata": {
        "id": "Q5NIbnziWGQ9"
      },
      "execution_count": null,
      "outputs": []
    },
    {
      "cell_type": "code",
      "source": [
        "plt.plot(cumulative_coverage)\n",
        "plt.title('Coverage of urlparse() with random inputs')\n",
        "plt.xlabel('# of inputs')\n",
        "plt.ylabel('lines covered');"
      ],
      "metadata": {
        "colab": {
          "base_uri": "https://localhost:8080/",
          "height": 472
        },
        "id": "NAMfEXo3V-ul",
        "outputId": "cb70c4de-d3c5-43d9-e540-2fab27a7a98b"
      },
      "execution_count": null,
      "outputs": [
        {
          "output_type": "display_data",
          "data": {
            "text/plain": [
              "<Figure size 640x480 with 1 Axes>"
            ],
            "image/png": "[encoded data removed]"
          },
          "metadata": {}
        }
      ]
    },
    {
      "cell_type": "markdown",
      "source": [
        "Lo bueno de esta estrategia es que se puede aplicar en programas muy largos, y explorar un path tras otro cubriendo diferentes funcionalidades."
      ],
      "metadata": {
        "id": "nCDUzFQVWJLe"
      }
    },
    {
      "cell_type": "markdown",
      "source": [
        "## Lecciones Aprendidas\n",
        "\n",
        "- Las entradas generadas aletoriamente son generalmente invalidads.\n",
        "- Mutaciones de entradas validas tiene mas chances de ser validas."
      ],
      "metadata": {
        "id": "OrNv9C-nWVbR"
      }
    }
  ],
  "metadata": {
    "kernelspec": {
      "display_name": "Python 3",
      "language": "python",
      "name": "python3"
    },
    "language_info": {
      "codemirror_mode": {
        "name": "ipython",
        "version": 3
      },
      "file_extension": ".py",
      "mimetype": "text/x-python",
      "name": "python",
      "nbconvert_exporter": "python",
      "pygments_lexer": "ipython3",
      "version": "3.8.18"
    },
    "colab": {
      "provenance": []
    }
  },
  "nbformat": 4,
  "nbformat_minor": 0
}
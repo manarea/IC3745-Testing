{
  "cells": [
    {
      "cell_type": "markdown",
      "metadata": {
        "id": "il6T7HdJ9Rc2"
      },
      "source": [
        "# Ejercicio\n",
        "\n"
      ]
    },
    {
      "cell_type": "markdown",
      "metadata": {
        "id": "fVTiUbZWxJ37"
      },
      "source": [
        "Considere la siguiente clase que se llama DateTime, es tiene un timezone, dia, año, mes, hora, minuto y segundo."
      ]
    },
    {
      "cell_type": "code",
      "execution_count": 1,
      "metadata": {
        "id": "zpMFKxMT9Rc5"
      },
      "outputs": [],
      "source": [
        "import requests\n",
        "\n",
        "class DateTime:\n",
        "    def __init__(self, timezone: str):\n",
        "        self.timezone = timezone\n",
        "        self._initialize_current_time(timezone)\n",
        "\n",
        "    def _initialize_current_time(self, timezone: str):\n",
        "        datetime_str = self.request_time(timezone)\n",
        "\n",
        "        date, time = datetime_str.split('T')\n",
        "        self.year, self.month, self.day = map(int, date.split('-'))\n",
        "        time_parts = time.split(':')\n",
        "        self.hour = int(time_parts[0])\n",
        "        self.minute = int(time_parts[1])\n",
        "\n",
        "    def request_time(self,timezone: str):\n",
        "        url = f\"http://worldtimeapi.org/api/timezone/{timezone}\"\n",
        "        response = requests.get(url)\n",
        "        response.raise_for_status()\n",
        "        data = response.json()\n",
        "        datetime_str = data['datetime'][:-1]  # Removing the 'Z' for ISO format\n",
        "        return datetime_str\n",
        "\n",
        "    def __str__(self):\n",
        "        return f\"{self.year:04}-{self.month:02}-{self.day:02} {self.hour:02}:{self.minute:02}\"\n"
      ]
    },
    {
      "cell_type": "code",
      "execution_count": 2,
      "metadata": {
        "colab": {
          "base_uri": "https://localhost:8080/"
        },
        "id": "1QJoDgrp0rGs",
        "outputId": "d38558c5-fc35-4642-b8a9-8e4892630bb0"
      },
      "outputs": [
        {
          "name": "stdout",
          "output_type": "stream",
          "text": [
            "2024-08-27 12:30\n"
          ]
        }
      ],
      "source": [
        "londonTime= DateTime(\"America/Santiago\")\n",
        "print(londonTime)"
      ]
    },
    {
      "cell_type": "code",
      "execution_count": 3,
      "metadata": {
        "id": "zmo6p56j0MRF"
      },
      "outputs": [],
      "source": [
        "class Appointment:\n",
        "    def __init__(self, year: int, month: int, day: int, hour: int, minute: int, timezone: str):\n",
        "        self.appointment_time = DateTime(timezone)\n",
        "        self.appointment_time.year = year\n",
        "        self.appointment_time.month = month\n",
        "        self.appointment_time.day = day\n",
        "        self.appointment_time.hour = hour\n",
        "        self.appointment_time.minute = minute\n",
        "        self.appointment_time.second = 0  # Assuming seconds are zero for appointments\n",
        "\n",
        "    def is_late(self) -> bool:\n",
        "        current_time = DateTime(self.appointment_time.timezone)\n",
        "        if (current_time.year > self.appointment_time.year or\n",
        "            (current_time.year == self.appointment_time.year and current_time.month > self.appointment_time.month) or\n",
        "            (current_time.year == self.appointment_time.year and current_time.month == self.appointment_time.month and current_time.day > self.appointment_time.day) or\n",
        "            (current_time.year == self.appointment_time.year and current_time.month == self.appointment_time.month and current_time.day == self.appointment_time.day and current_time.hour > self.appointment_time.hour) or\n",
        "            (current_time.year == self.appointment_time.year and current_time.month == self.appointment_time.month and current_time.day == self.appointment_time.day and current_time.hour == self.appointment_time.hour and current_time.minute > self.appointment_time.minute)):\n",
        "            return True\n",
        "        return False\n"
      ]
    },
    {
      "cell_type": "code",
      "execution_count": 4,
      "metadata": {
        "colab": {
          "base_uri": "https://localhost:8080/"
        },
        "id": "w2bxqF1zfjvj",
        "outputId": "c10eba67-4f65-4fc1-8210-bd258958f35f"
      },
      "outputs": [
        {
          "name": "stdout",
          "output_type": "stream",
          "text": [
            "Appointment Time: 2024-08-08 17:00\n",
            "You are late for the appointment.\n"
          ]
        }
      ],
      "source": [
        "appointment = Appointment(2024, 8, 8, 17, 00, \"America/Santiago\")\n",
        "print(f\"Appointment Time: {appointment.appointment_time}\")\n",
        "if appointment.is_late():\n",
        "  print(\"You are late for the appointment.\")\n",
        "else:\n",
        "  print(\"You are on time for the appointment.\")"
      ]
    },
    {
      "cell_type": "markdown",
      "metadata": {
        "id": "tsvoIWnk9Rc6"
      },
      "source": [
        "Un estudiante de Testing hizo este test, el 7 de Agosto del 2024, a las 15:20, y los dos test pasaban. Sin embargo, el profesor reviso su tarea hoy 8 de agosto y uno de los dos test no pasa."
      ]
    },
    {
      "cell_type": "code",
      "execution_count": 5,
      "metadata": {
        "colab": {
          "base_uri": "https://localhost:8080/"
        },
        "id": "2PAu3n-R9Rc6",
        "outputId": "7028712c-586b-4253-80aa-c7e3719fe52f"
      },
      "outputs": [
        {
          "name": "stderr",
          "output_type": "stream",
          "text": [
            ".F\n",
            "======================================================================\n",
            "FAIL: testOnTime (__main__.TestAppointment)\n",
            "----------------------------------------------------------------------\n",
            "Traceback (most recent call last):\n",
            "  File \"C:\\Users\\maxim\\AppData\\Local\\Temp\\ipykernel_26452\\1225853485.py\", line 7, in testOnTime\n",
            "    self.assertFalse(a1.is_late())\n",
            "AssertionError: True is not false\n",
            "\n",
            "----------------------------------------------------------------------\n",
            "Ran 2 tests in 1.248s\n",
            "\n",
            "FAILED (failures=1)\n"
          ]
        }
      ],
      "source": [
        "import unittest\n",
        "\n",
        "class TestAppointment(unittest.TestCase):\n",
        "\n",
        "  def testOnTime(self):\n",
        "    a1 = Appointment(2024, 8, 7, 15, 30, \"America/Santiago\")\n",
        "    self.assertFalse(a1.is_late())\n",
        "\n",
        "  def testLate(self):\n",
        "    a1 = Appointment(2024, 8, 7, 15, 10, \"America/Santiago\")\n",
        "    self.assertTrue(a1.is_late())\n",
        "\n",
        "\n",
        "def runTests(testClass):\n",
        "  # Create a test suite\n",
        "  suite = unittest.TestSuite()\n",
        "  # Add tests from the test class\n",
        "  suite.addTest(unittest.makeSuite(testClass))\n",
        "  # Run the test suite\n",
        "  runner = unittest.TextTestRunner()\n",
        "  runner.run(suite)\n",
        "\n",
        "runTests(TestAppointment)"
      ]
    },
    {
      "cell_type": "markdown",
      "metadata": {
        "id": "q9pytDcHy52Z"
      },
      "source": [
        "El problema es la dependencia al API que devulve la hora actual.\n",
        "\n",
        "**Ejercicio** Ayude al estudiante a que sus test vuelvan a pasar, para esto utilize mocks para que el API devuelva la hora que el estudiante hizo los tests. Escriba la solución abajo:\n",
        "\n"
      ]
    },
    {
      "cell_type": "code",
      "execution_count": 7,
      "metadata": {
        "colab": {
          "base_uri": "https://localhost:8080/"
        },
        "id": "k4HxRz1nzBRp",
        "outputId": "1797be70-231f-4c6c-e442-299b345bde95"
      },
      "outputs": [
        {
          "name": "stderr",
          "output_type": "stream",
          "text": [
            "..\n",
            "----------------------------------------------------------------------\n",
            "Ran 2 tests in 0.002s\n",
            "\n",
            "OK\n"
          ]
        }
      ],
      "source": [
        "from unittest.mock import MagicMock\n",
        "from unittest.mock import patch\n",
        "\n",
        "import unittest\n",
        "\n",
        "class TestAppointment(unittest.TestCase):\n",
        "\n",
        "  @patch.object(DateTime, 'request_time', return_value=\"2024-08-07T15:20:000000-04:00\")\n",
        "  def testOnTime(self, MockDateTime):\n",
        "    a1 = Appointment(2024, 8, 7, 15, 30, \"America/Santiago\")\n",
        "    self.assertFalse(a1.is_late())\n",
        "\n",
        "  @patch.object(DateTime, 'request_time', return_value=\"2024-08-07T15:20:000000-04:00\")\n",
        "  def testLate(self, MockDateTime):\n",
        "    a1 = Appointment(2024, 8, 7, 15, 10, \"America/Santiago\")\n",
        "    self.assertTrue(a1.is_late())\n",
        "\n",
        "\n",
        "def runTests(testClass):\n",
        "  suite = unittest.TestSuite()\n",
        "  suite.addTest(unittest.makeSuite(testClass))\n",
        "  runner = unittest.TextTestRunner()\n",
        "  runner.run(suite)\n",
        "\n",
        "runTests(TestAppointment)\n"
      ]
    }
  ],
  "metadata": {
    "colab": {
      "provenance": []
    },
    "kernelspec": {
      "display_name": "Python 3",
      "language": "python",
      "name": "python3"
    },
    "language_info": {
      "codemirror_mode": {
        "name": "ipython",
        "version": 3
      },
      "file_extension": ".py",
      "mimetype": "text/x-python",
      "name": "python",
      "nbconvert_exporter": "python",
      "pygments_lexer": "ipython3",
      "version": "3.9.0"
    }
  },
  "nbformat": 4,
  "nbformat_minor": 0
}

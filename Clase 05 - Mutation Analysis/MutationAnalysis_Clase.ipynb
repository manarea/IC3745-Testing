{
  "nbformat": 4,
  "nbformat_minor": 0,
  "metadata": {
    "colab": {
      "provenance": []
    },
    "kernelspec": {
      "name": "python3",
      "display_name": "Python 3"
    },
    "language_info": {
      "name": "python"
    }
  },
  "cells": [
    {
      "cell_type": "markdown",
      "source": [
        "# Mutation Analysis\n",
        "Anteriormente, vimos como el coverage puede ayudarnos a identificar las partes de código ejecutadas por las pruebas. Sin embargo, el coverage solo puede que no sea la mejor medida para representar la effectividad de las pruebas. Debido a que no podría tener una buena covertura sin revisar si los resultados son correctos. Por ejemplo, ejecutamos una función con muchas entradas, y tenemos 100% de coverage pero nunca probamos si el resultado de la función es correcto.\n",
        "\n",
        "Este capitulo esta 100% basado en el libro de Andreas Zeller, Rahul Gopinath, Marcel Böhme, Gordon Fraser, and Christian Holler, **The Fuzzing Book**, https://www.fuzzingbook.org/html/Fuzzer.html. Retrieved 2024-06-29 17:55:20+02:00.\n",
        "\n",
        "## Pre-requisitos"
      ],
      "metadata": {
        "id": "FIXWEkWQdEeM"
      }
    },
    {
      "cell_type": "code",
      "source": [
        "from IPython.display import clear_output\n",
        "!apt-get update\n",
        "!apt-get install -y graphviz graphviz-dev\n",
        "!pip install pygraphviz\n",
        "!pip install fuzzingbook\n",
        "from typing import Tuple, List, Callable, Set, Any\n",
        "from urllib.parse import urlparse\n",
        "clear_output()\n"
      ],
      "metadata": {
        "id": "6sxwebF6ig7P"
      },
      "execution_count": 1,
      "outputs": []
    },
    {
      "cell_type": "code",
      "source": [
        "import sys\n",
        "from fuzzingbook.MutationAnalysis import MuFunctionAnalyzer\n",
        "import fuzzingbook.bookutils.setup\n"
      ],
      "metadata": {
        "id": "xGkO3HP4rvYA"
      },
      "execution_count": 2,
      "outputs": []
    },
    {
      "cell_type": "markdown",
      "source": [
        "## ¿Por qué el coverage estructural no es suficiente?\n",
        "\n",
        "Uno de los problemas del coverage es que este no permite verificar si los resultados o los outputs de lo que estamos probando es correcto. Es decir, si una ejecución produce malos resultados, estos pasarían desapercibidos por la batería de pruebas.\n",
        "\n",
        "Por ejemplo, si uno borra los asserts de las pruebas el test seguirá teniendo la misma cobertura, pero el test no estaría probando nada. Por ejemplo:"
      ],
      "metadata": {
        "id": "rjJdKp6TdzcY"
      }
    },
    {
      "cell_type": "code",
      "execution_count": 51,
      "metadata": {
        "id": "VtCpBntrcu_X"
      },
      "outputs": [],
      "source": [
        "def ineffective_test_1():\n",
        "    execute_the_program_as_a_whole()\n",
        "    assert True"
      ]
    },
    {
      "cell_type": "markdown",
      "source": [
        "La assertion del final siempre pasa, sin importar que  execute_the_program_as_a_whole funcione. Claro, si la función execute_the_program_as_a_whole lanza exception entonces, si el test fallara, pero prodiamos tener un mejor test para esto:"
      ],
      "metadata": {
        "id": "l97bYKX9eOi7"
      }
    },
    {
      "cell_type": "code",
      "source": [
        "def ineffective_test_2():\n",
        "    try:\n",
        "      execute_the_program_as_a_whole()\n",
        "    except:\n",
        "      pass\n",
        "    assert True"
      ],
      "metadata": {
        "id": "8M0KwF8Gebzc"
      },
      "execution_count": 52,
      "outputs": []
    },
    {
      "cell_type": "markdown",
      "source": [
        "El problema con estos test, sin embargo, es que la funcion execute_the_program_as_a_whole() puede obtener un coverage del 100%, pero no es efectivo para detectar bugs.\n",
        "\n"
      ],
      "metadata": {
        "id": "10I0-8xaeeSY"
      }
    },
    {
      "cell_type": "markdown",
      "source": [
        "### Ejemplo: Limitaciones del Coverage\n",
        "\n",
        "A continuación introduciremos ejemplos mas detallados para ilustrar la problematica del coverage y también como en analysis de mutación funciona. La función triangle clasifica si un triángulo con ejes de tamaño a, b y c calzan en una categoria de triángulos. Queremos testear si el programa funciona correctamente."
      ],
      "metadata": {
        "id": "TQ7qohGbg-mm"
      }
    },
    {
      "cell_type": "code",
      "source": [
        "def triangle(a, b, c):\n",
        "    if a == b:\n",
        "        if b == c:\n",
        "            return 'Equilateral'\n",
        "        else:\n",
        "            return 'Isosceles'\n",
        "    else:\n",
        "        if b == c:\n",
        "            return \"Isosceles\"\n",
        "        else:\n",
        "            if a == c:\n",
        "                return \"Isosceles\"\n",
        "            else:\n",
        "                return \"Scalene\""
      ],
      "metadata": {
        "id": "6d8_878Teneo"
      },
      "execution_count": 40,
      "outputs": []
    },
    {
      "cell_type": "markdown",
      "source": [
        "Aqui tenemos un par de tests que prueba si la función funciona:"
      ],
      "metadata": {
        "id": "k2_Gr1yfhm_q"
      }
    },
    {
      "cell_type": "code",
      "source": [
        "def strong_oracle(fn):\n",
        "    assert fn(1, 1, 1) == 'Equilateral'\n",
        "\n",
        "    assert fn(1, 2, 1) == 'Isosceles'\n",
        "    assert fn(2, 2, 1) == 'Isosceles'\n",
        "    assert fn(1, 2, 2) == 'Isosceles'\n",
        "\n",
        "    assert fn(1, 2, 3) == 'Scalene'"
      ],
      "metadata": {
        "id": "PTiFOa6Zht7W"
      },
      "execution_count": 53,
      "outputs": []
    },
    {
      "cell_type": "markdown",
      "source": [
        "Si ejecutamos los test estos pasan:"
      ],
      "metadata": {
        "id": "eSv-s8HYhwpt"
      }
    },
    {
      "cell_type": "code",
      "source": [
        "\n",
        "strong_oracle(triangle)\n"
      ],
      "metadata": {
        "id": "b_ep8K_7h047"
      },
      "execution_count": 54,
      "outputs": []
    },
    {
      "cell_type": "markdown",
      "source": [
        "Sin embargo, la frase \"todos los tests pasan\" tiene valor solo si sabemos que nuestros test son efectivos. Pero, ¿qué hace a un test efectivo?\n",
        "Revisemos el coverage de nuestros tests:"
      ],
      "metadata": {
        "id": "i9cNv_oOh4Jt"
      }
    },
    {
      "cell_type": "code",
      "source": [
        "import fuzzingbook.bookutils.setup\n",
        "from fuzzingbook.Coverage import Coverage\n",
        "import inspect"
      ],
      "metadata": {
        "id": "3KSmfbsJiIxB"
      },
      "execution_count": 55,
      "outputs": []
    },
    {
      "cell_type": "markdown",
      "source": [
        "Para facilitar el análisis, agregaremos a nuestra clase `Coverage` el método `show_coverage`:"
      ],
      "metadata": {
        "id": "xiqBg2QmiQW0"
      }
    },
    {
      "cell_type": "code",
      "source": [
        "class VisualCoverage(Coverage):\n",
        "    def show_coverage(self, fn):\n",
        "        src = inspect.getsource(fn)\n",
        "        name = fn.__name__\n",
        "        covered = set([lineno for method,\n",
        "                       lineno in self._trace if method == name])\n",
        "        for i, s in enumerate(src.split('\\n')):\n",
        "            print('%s %2d: %s' % ('#' if i + 1 in covered else ' ', i + 1, s))"
      ],
      "metadata": {
        "id": "uf5bGhLRiNl_"
      },
      "execution_count": 56,
      "outputs": []
    },
    {
      "cell_type": "code",
      "source": [
        "with VisualCoverage() as cov:\n",
        "    strong_oracle(triangle)\n",
        ""
      ],
      "metadata": {
        "id": "gFJDUTcKjKCr"
      },
      "execution_count": 58,
      "outputs": []
    },
    {
      "cell_type": "code",
      "source": [
        "\n",
        "cov.show_coverage(triangle)\n"
      ],
      "metadata": {
        "colab": {
          "base_uri": "https://localhost:8080/"
        },
        "id": "r8Ho_ebLjKf_",
        "outputId": "b5d2e497-d5c6-4c56-8ae8-b901f43c82b7"
      },
      "execution_count": 59,
      "outputs": [
        {
          "output_type": "stream",
          "name": "stdout",
          "text": [
            "   1: def triangle(a, b, c):\n",
            "#  2:     if a == b:\n",
            "#  3:         if b == c:\n",
            "#  4:             return 'Equilateral'\n",
            "   5:         else:\n",
            "#  6:             return 'Isosceles'\n",
            "   7:     else:\n",
            "#  8:         if b == c:\n",
            "#  9:             return \"Isosceles\"\n",
            "  10:         else:\n",
            "# 11:             if a == c:\n",
            "# 12:                 return \"Isosceles\"\n",
            "  13:             else:\n",
            "# 14:                 return \"Scalene\"\n",
            "  15: \n"
          ]
        }
      ]
    },
    {
      "cell_type": "markdown",
      "source": [
        "`strong_oracle` parece tener un coverage adecuado que cubre todas las posibles condiciones. Eso es verdad, y los test se ven razonablemente buenos en terminos coverage.\n",
        "\n",
        "Sin embargo, ¿la cobertura nos dice todo sobre nuestros tests?\n",
        "\n",
        "Consideremos el siguiente conjunto de tests:"
      ],
      "metadata": {
        "id": "NkGjYh54jRZH"
      }
    },
    {
      "cell_type": "code",
      "source": [
        "def weak_oracle(fn):\n",
        "    assert fn(1, 1, 1) == 'Equilateral'\n",
        "\n",
        "    assert fn(1, 2, 1) != 'Equilateral'\n",
        "    assert fn(2, 2, 1) != 'Equilateral'\n",
        "    assert fn(1, 2, 2) != 'Equilateral'\n",
        "\n",
        "    assert fn(1, 2, 3) != 'Equilateral'"
      ],
      "metadata": {
        "id": "4PLxFuFIjhyN"
      },
      "execution_count": 60,
      "outputs": []
    },
    {
      "cell_type": "markdown",
      "source": [
        "Para este test que ve si un triángulo tiene diferentes lados no es equilatero. ¿Cuál es el coverage?"
      ],
      "metadata": {
        "id": "IYBRDVsejkAw"
      }
    },
    {
      "cell_type": "code",
      "source": [
        "with VisualCoverage() as cov:\n",
        "    weak_oracle(triangle)\n",
        "\n",
        "cov.show_coverage(triangle)\n"
      ],
      "metadata": {
        "colab": {
          "base_uri": "https://localhost:8080/"
        },
        "id": "AlyyAHURjwuM",
        "outputId": "c90b8a13-ddb6-4866-859f-6cba651bf7ab"
      },
      "execution_count": 61,
      "outputs": [
        {
          "output_type": "stream",
          "name": "stdout",
          "text": [
            "   1: def triangle(a, b, c):\n",
            "#  2:     if a == b:\n",
            "#  3:         if b == c:\n",
            "#  4:             return 'Equilateral'\n",
            "   5:         else:\n",
            "#  6:             return 'Isosceles'\n",
            "   7:     else:\n",
            "#  8:         if b == c:\n",
            "#  9:             return \"Isosceles\"\n",
            "  10:         else:\n",
            "# 11:             if a == c:\n",
            "# 12:                 return \"Isosceles\"\n",
            "  13:             else:\n",
            "# 14:                 return \"Scalene\"\n",
            "  15: \n"
          ]
        }
      ]
    },
    {
      "cell_type": "markdown",
      "source": [
        "Se puede observar que esta batería de tests tiene la misma cobertura que la anterior.\n",
        "\n",
        "Reflexionando un poco `weak_oracle` no es tan efectivo como `strong_oracle`.\n",
        "\n",
        "Sin embargo, en terminos de coverage ambos parecen tener la misma calidad. Pero esto **no es cierto**. Por eso, es necesario también evaluar la calidad de los assertions.\n",
        "\n",
        "Entonces, ¿cómo puedo saber si mis test en verdad son útiles en detectar bugs? una alternativa es **inyectar bugs dentro del programa y evaluar la effectividad de nuestras pruebas en atraparlos.**\n",
        "\n",
        "Pero, ¿cómo producimos bugs en primer lugar? si ponemos **bugs de forma manual**, estos estarían **sesgados** a la perspectiva del desarrollador sobre el como la aplicación puede funcionar. Es más, escribir buenos bugs involucra también mucho tiempo."
      ],
      "metadata": {
        "id": "lcUATM9kj3Tp"
      }
    },
    {
      "cell_type": "markdown",
      "source": [
        "## Sembrando bugs artificales con Mutation Analysis\n",
        "\n",
        "Mutation Analysis ofrece una solucion alternativa para evaluar la efectividad de los test generados.\n",
        "\n",
        "La idea del mutation analysis es sembrar bugs artificiales, conocidos como mutantes, dentro del código del programa, y verficar cuando las pruebas la encuentran.\n",
        "\n",
        "Una mutación podría, por ejemplo, reemplazar un + por un - (en algún lugar del programa). Por su puesto, un conjunto de test ineficientes no detectarían este cambio.\n"
      ],
      "metadata": {
        "id": "XpveXcfGfJm1"
      }
    },
    {
      "cell_type": "code",
      "source": [
        "def suma_generica(a, b):\n",
        "  return a + b\n",
        "\n",
        "def suma_generica_mutante(a, b):\n",
        "  return a - b"
      ],
      "metadata": {
        "id": "19j1qu3mIytS"
      },
      "execution_count": 62,
      "outputs": []
    },
    {
      "cell_type": "markdown",
      "source": [
        "\n",
        "La hipótesis es que si se pueden detectar estos bugs artificiales, habrían más chances de detectar bugs reales.\n",
        "\n",
        "El objetivo del Mutation Analysis es considerar la probabilidad de insertar un bug desde la perspectiva de un programador. Si uno asume que la atención recibida por cada elemento del programa es similar, uno podría asumir que cada token del programa tiene una misma probabilidad de contener un bug.\n",
        "\n",
        "Por su puesto, un programador puede corregir cualquier error que es detectado por el compilador o por un linter. Entonces, para establecer tokens válidos en diferentes partes del programa, que logren pasar la compilación, pueden ser considerados posibles fallas del programa.\n",
        "\n",
        "Una batería de pruebas es un juez capas de detectar estos mutantes. El mutation score, representa la proporción de mutantes detectados sobre todos los mutantes válidos producidos."
      ],
      "metadata": {
        "id": "IrUvAGCPIyQW"
      }
    },
    {
      "cell_type": "markdown",
      "source": [
        "## Inyectando Fallas Artificiales\n",
        "\n",
        "Lo que necesitamos hacer es injectar bugs en el programa, uno a la vez, y contar cuantos de estos bugs los test logran detectar. La frecuencia sera un indicador de cuantos bugs fueron no cubiertos. A esta técnica se llama fault injection."
      ],
      "metadata": {
        "id": "B-wjnx52khKM"
      }
    },
    {
      "cell_type": "code",
      "source": [
        "def triangle_m1(a, b, c):\n",
        "    if a == b:\n",
        "        if b == c:\n",
        "            return 'Equilateral'\n",
        "        else:\n",
        "            # return 'Isosceles'\n",
        "            return None  # <-- injected fault\n",
        "    else:\n",
        "        if b == c:\n",
        "            return \"Isosceles\"\n",
        "        else:\n",
        "            if a == c:\n",
        "                return \"Isosceles\"\n",
        "            else:\n",
        "                return \"Scalene\""
      ],
      "metadata": {
        "id": "-EHg1G8QkMPQ"
      },
      "execution_count": 14,
      "outputs": []
    },
    {
      "cell_type": "markdown",
      "source": [
        "Veamos si los test son buenos para detectar este bug."
      ],
      "metadata": {
        "id": "RN7PPtTQk4EO"
      }
    },
    {
      "cell_type": "code",
      "source": [
        "from fuzzingbook.ExpectError import ExpectError"
      ],
      "metadata": {
        "id": "U1ig_gfpk9tX"
      },
      "execution_count": 63,
      "outputs": []
    },
    {
      "cell_type": "code",
      "source": [
        "with ExpectError():\n",
        "    weak_oracle(triangle_m1)\n",
        ""
      ],
      "metadata": {
        "id": "9LQGJ4rhlAXo"
      },
      "execution_count": 65,
      "outputs": []
    },
    {
      "cell_type": "markdown",
      "source": [
        "Los test en weak_oracle no son capaces de detectar ningun cambio."
      ],
      "metadata": {
        "id": "eMcQqdHTlL9q"
      }
    },
    {
      "cell_type": "code",
      "source": [
        "with ExpectError():\n",
        "    strong_oracle(triangle_m1)\n",
        ""
      ],
      "metadata": {
        "colab": {
          "base_uri": "https://localhost:8080/"
        },
        "id": "F2z-L2jNlRup",
        "outputId": "241ceec2-a18d-4d76-dbdc-48e5a121c7fb"
      },
      "execution_count": 66,
      "outputs": [
        {
          "output_type": "stream",
          "name": "stderr",
          "text": [
            "Traceback (most recent call last):\n",
            "  File \"<ipython-input-66-cf9d4456bba5>\", line 2, in <cell line: 1>\n",
            "    strong_oracle(triangle_m1)\n",
            "  File \"<ipython-input-53-90155baa3232>\", line 5, in strong_oracle\n",
            "    assert fn(2, 2, 1) == 'Isosceles'\n",
            "AssertionError (expected)\n"
          ]
        }
      ]
    },
    {
      "cell_type": "markdown",
      "source": [
        "Nuestra `strong_oracle` es capaz de detectar la falla, esto evidencia que `strong_oracle` es probablemente el mejor conjunto de tests."
      ],
      "metadata": {
        "id": "sE_VzL3plVTM"
      }
    },
    {
      "cell_type": "markdown",
      "source": [
        "Fault injection puede proporcionar una buena forma de medir la efectividad de un test suite. Sin embargo, es difícil crear un conjunto de \"buenos\" faults que sean razonablemente dificiles de detectar. Además, este es un proceso manual.\n",
        "\n",
        "Por otro lado, dado que la inyección fue manual, el proceso de generar fallas **estará sesgado a la percepción del desarrollador que crea los bugs**, incluso si le pasamos una lista de bugs a inyectar esto sería un proceso tedioso. ¿Podemos hacerlo mejor?\n",
        "\n",
        "\n",
        "El Mutation Analysis proporciona una alternativa. La idea es que, si uno asume que el programador entiende el programa en cuestion, la mayoría de los errores realizados deberían ser similares a errores de transcripción (solo un par de palabras).\n",
        "\n",
        "Un compilador podrá detectar la mayoría de estos errores. Por lo que la mayoría de fallas sobrantes en el programa son probablemente debido a una variación pequeña en ciertos puntos de la estructura del programa.\n",
        "\n",
        "Esto también es llamado \"Competent Programmer Hypothesis\" o \"Finite Neighborhood Hypothesis\".\n",
        "\n",
        "Pero, ¿qué pasa con las fallas grandes que estan compuestas por fallas pequeñas? La idea aquí es que, para la mayoría de las fallas complejas, los casos de prueba que detecten una falla simple de manera aislada podrán muy probablemente detectar fallas grandes. Esta suposición es llamada \"Coupling Effect\".\n",
        "\n",
        "¿Cómo podemos utilizar esta suposición en la práctica? La idea no es simplemente generar todas las posbiles variantes validad de un programa que difieren del original con un pequeño cambio.\n",
        "\n",
        "Cualquier mutante detectado por la batería de pruebas se dice que fue matado por la batería. **La efectivdad esta dada por la proporción de mutantes muertos con respecto a todos los mutantes validos generados.**"
      ],
      "metadata": {
        "id": "LP-rxlH8lprT"
      }
    },
    {
      "cell_type": "markdown",
      "source": [
        "## Importando y adaptando una simple mutación\n",
        "\n",
        "En este capítulo utilizaremos una clase que nos permite realizar mutaciones. La siguiente parte del curso, veremos como implementar este tipo de clases.\n",
        "\n",
        "Cabe notar que en el siguiente bloque de código no solo importa la clase que nos permite hacer mutaciones sino que también aplica unos parches para que esta funcione en google colab."
      ],
      "metadata": {
        "id": "zh5uIFxy4X5s"
      }
    },
    {
      "cell_type": "code",
      "source": [
        "from fuzzingbook.MutationAnalysis import Mutant\n",
        "from fuzzingbook.MutationAnalysis import MuFunctionAnalyzer\n",
        "\n",
        "# parche 1\n",
        "def __fixed_ented__(self):\n",
        "  if self.log:\n",
        "    print('->\\t%s' % self.name)\n",
        "  exec(self.src(), globals())\n",
        "\n",
        "# parche 2\n",
        "def __fixed_exit__(self, exc_type, exc_value, traceback):\n",
        "  if self.log:\n",
        "      print('<-\\t%s' % self.name)\n",
        "  if exc_type is not None:\n",
        "      self.detected = True\n",
        "      if self.log:\n",
        "          print(\"Detected %s\" % self.name, exc_type, exc_value)\n",
        "  globals()[self.pm.name] = self.pm.fn\n",
        "  if self.log:\n",
        "      print()\n",
        "  return True\n",
        "\n",
        "# aplicando parches\n",
        "Mutant.__enter__= __fixed_ented__\n",
        "Mutant.__exit__= __fixed_exit__"
      ],
      "metadata": {
        "id": "O8p5yjCH4uOa"
      },
      "execution_count": 68,
      "outputs": []
    },
    {
      "cell_type": "markdown",
      "source": [
        "## Mutating Python Code\n",
        "\n",
        "En las siguientes clases veremos como generar los mutantes nosotros mediante un algoritmo. De momento nos limitaremos a utilizar la clase del fuzzingbook que ya injecta los mutantes y ejecuta un pedazo de código enviando varias versiones mutadas de la función orignial."
      ],
      "metadata": {
        "id": "8ABAeYV_oB_H"
      }
    },
    {
      "cell_type": "code",
      "source": [
        "import difflib\n",
        "\n",
        "for mutant in MuFunctionAnalyzer(triangle):\n",
        "    print(mutant.diff())"
      ],
      "metadata": {
        "colab": {
          "base_uri": "https://localhost:8080/"
        },
        "id": "KY-99RpZAcVT",
        "outputId": "7ae24706-eee0-4756-aecc-152d6fcd7105"
      },
      "execution_count": 19,
      "outputs": [
        {
          "output_type": "stream",
          "name": "stdout",
          "text": [
            "--- original\n",
            "\n",
            "+++ mutant\n",
            "\n",
            "@@ -1,7 +1,7 @@\n",
            "\n",
            " def triangle(a, b, c):\n",
            "     if a == b:\n",
            "         if b == c:\n",
            "-            return 'Equilateral'\n",
            "+            pass\n",
            "         else:\n",
            "             return 'Isosceles'\n",
            "     elif b == c:\n",
            "--- original\n",
            "\n",
            "+++ mutant\n",
            "\n",
            "@@ -3,7 +3,7 @@\n",
            "\n",
            "         if b == c:\n",
            "             return 'Equilateral'\n",
            "         else:\n",
            "-            return 'Isosceles'\n",
            "+            pass\n",
            "     elif b == c:\n",
            "         return 'Isosceles'\n",
            "     elif a == c:\n",
            "--- original\n",
            "\n",
            "+++ mutant\n",
            "\n",
            "@@ -5,7 +5,7 @@\n",
            "\n",
            "         else:\n",
            "             return 'Isosceles'\n",
            "     elif b == c:\n",
            "-        return 'Isosceles'\n",
            "+        pass\n",
            "     elif a == c:\n",
            "         return 'Isosceles'\n",
            "     else:\n",
            "--- original\n",
            "\n",
            "+++ mutant\n",
            "\n",
            "@@ -7,6 +7,6 @@\n",
            "\n",
            "     elif b == c:\n",
            "         return 'Isosceles'\n",
            "     elif a == c:\n",
            "-        return 'Isosceles'\n",
            "+        pass\n",
            "     else:\n",
            "         return 'Scalene'\n",
            "--- original\n",
            "\n",
            "+++ mutant\n",
            "\n",
            "@@ -9,4 +9,4 @@\n",
            "\n",
            "     elif a == c:\n",
            "         return 'Isosceles'\n",
            "     else:\n",
            "-        return 'Scalene'\n",
            "+        pass\n"
          ]
        }
      ]
    },
    {
      "cell_type": "code",
      "source": [
        "import sys\n",
        "for mutant in MuFunctionAnalyzer(triangle,log=True):\n",
        "    with mutant:\n",
        "      assert triangle(1, 1, 1) == 'Equilateral', \"Equal Check1\"\n",
        "      assert triangle(1, 0, 1) != 'Equilateral', \"Equal Check2\"\n",
        "      assert triangle(1, 0, 2) != 'Equilateral', \"Equal Check3\"\n",
        "\n",
        "mutant.pm.score()"
      ],
      "metadata": {
        "colab": {
          "base_uri": "https://localhost:8080/"
        },
        "id": "vBvwKv4vCiQt",
        "outputId": "d76253f2-649d-4c2c-b480-191ab920d2dd"
      },
      "execution_count": 69,
      "outputs": [
        {
          "output_type": "stream",
          "name": "stdout",
          "text": [
            "->\ttriangle_1\n",
            "<-\ttriangle_1\n",
            "Detected triangle_1 <class 'AssertionError'> Equal Check1\n",
            "\n",
            "->\ttriangle_2\n",
            "<-\ttriangle_2\n",
            "\n",
            "->\ttriangle_3\n",
            "<-\ttriangle_3\n",
            "\n",
            "->\ttriangle_4\n",
            "<-\ttriangle_4\n",
            "\n",
            "->\ttriangle_5\n",
            "<-\ttriangle_5\n",
            "\n"
          ]
        },
        {
          "output_type": "execute_result",
          "data": {
            "text/plain": [
              "0.2"
            ]
          },
          "metadata": {},
          "execution_count": 69
        }
      ]
    },
    {
      "cell_type": "markdown",
      "source": [
        "El código anterior, creo 5 versiones de la función `triangle`, cada una con una mutación, y ejecutó el bloque de código anterior con cada una de estas versions, es decir, la función `triangle`, en cada iteración era una version-mutada.\n",
        "\n",
        "Solo una de las cinco mutaciones resulto en un assert que falle (failing assertion). **Por lo que los test solo lograron matar al 20% de los mutantes.**"
      ],
      "metadata": {
        "id": "yRea9NqlphMb"
      }
    },
    {
      "cell_type": "code",
      "source": [
        "for mutant in MuFunctionAnalyzer(triangle):\n",
        "    with mutant:\n",
        "        weak_oracle(triangle)\n",
        "mutant.pm.score()"
      ],
      "metadata": {
        "colab": {
          "base_uri": "https://localhost:8080/"
        },
        "id": "HSMH8YIJqfaC",
        "outputId": "dbe334d1-a305-45d9-e1a5-45f352dc38a2"
      },
      "execution_count": 70,
      "outputs": [
        {
          "output_type": "execute_result",
          "data": {
            "text/plain": [
              "0.2"
            ]
          },
          "metadata": {},
          "execution_count": 70
        }
      ]
    },
    {
      "cell_type": "code",
      "source": [
        "for mutant in MuFunctionAnalyzer(triangle):\n",
        "    with mutant:\n",
        "        strong_oracle(triangle)\n",
        "mutant.pm.score()"
      ],
      "metadata": {
        "colab": {
          "base_uri": "https://localhost:8080/"
        },
        "id": "2ISpKgkjqmk7",
        "outputId": "7671ef58-c8f8-4b36-c291-25e8911296fb"
      },
      "execution_count": 71,
      "outputs": [
        {
          "output_type": "execute_result",
          "data": {
            "text/plain": [
              "1.0"
            ]
          },
          "metadata": {},
          "execution_count": 71
        }
      ]
    },
    {
      "cell_type": "markdown",
      "source": [
        "La métrica mutation score es más acorde a la calidad de los assertions del `weak_oracle` y `strong_oracle`.\n",
        "\n",
        "Veamos otro ejemplo:"
      ],
      "metadata": {
        "id": "HeGGJbFEJrr_"
      }
    },
    {
      "cell_type": "code",
      "source": [
        "def gcd(a, b):\n",
        "    if a < b:\n",
        "        c = a\n",
        "        a = b\n",
        "        b = c\n",
        "\n",
        "    while b != 0:\n",
        "        c = a\n",
        "        a = b\n",
        "        b = c % b\n",
        "\n",
        "    return a"
      ],
      "metadata": {
        "id": "YwDIP0uwKeH3"
      },
      "execution_count": 23,
      "outputs": []
    },
    {
      "cell_type": "code",
      "source": [
        "for mutant in MuFunctionAnalyzer(gcd, log=True):\n",
        "    with mutant:\n",
        "        assert gcd(1, 0) == 1, \"Minimal\"\n",
        "        assert gcd(0, 1) == 1, \"Mirror\"\n",
        "\n",
        "mutant.pm.score()"
      ],
      "metadata": {
        "colab": {
          "base_uri": "https://localhost:8080/"
        },
        "id": "les__pNq48i-",
        "outputId": "7fd06fb9-5b01-4f00-a9a6-0599f9f29182"
      },
      "execution_count": 72,
      "outputs": [
        {
          "output_type": "stream",
          "name": "stdout",
          "text": [
            "->\tgcd_1\n",
            "<-\tgcd_1\n",
            "Detected gcd_1 <class 'UnboundLocalError'> local variable 'c' referenced before assignment\n",
            "\n",
            "->\tgcd_2\n",
            "<-\tgcd_2\n",
            "Detected gcd_2 <class 'AssertionError'> Mirror\n",
            "\n",
            "->\tgcd_3\n",
            "<-\tgcd_3\n",
            "\n",
            "->\tgcd_4\n",
            "<-\tgcd_4\n",
            "\n",
            "->\tgcd_5\n",
            "<-\tgcd_5\n",
            "\n",
            "->\tgcd_6\n",
            "<-\tgcd_6\n",
            "\n",
            "->\tgcd_7\n",
            "<-\tgcd_7\n",
            "Detected gcd_7 <class 'AssertionError'> Minimal\n",
            "\n"
          ]
        },
        {
          "output_type": "execute_result",
          "data": {
            "text/plain": [
              "0.42857142857142855"
            ]
          },
          "metadata": {},
          "execution_count": 72
        }
      ]
    },
    {
      "cell_type": "markdown",
      "source": [
        "## Mutation Testing con Unit Tests"
      ],
      "metadata": {
        "id": "26Y88ju_K6C3"
      }
    },
    {
      "cell_type": "code",
      "source": [
        "import unittest"
      ],
      "metadata": {
        "id": "ow5J-YgmLCPK"
      },
      "execution_count": 25,
      "outputs": []
    },
    {
      "cell_type": "code",
      "source": [
        "class StrongShapeTest(unittest.TestCase):\n",
        "\n",
        "    def test_equilateral(self):\n",
        "        assert triangle(1, 1, 1) == 'Equilateral'\n",
        "\n",
        "    def test_isosceles(self):\n",
        "        assert triangle(1, 2, 1) == 'Isosceles'\n",
        "        assert triangle(2, 2, 1) == 'Isosceles'\n",
        "        assert triangle(1, 2, 2) == 'Isosceles'\n",
        "\n",
        "    def test_scalene(self):\n",
        "        assert triangle(1, 2, 3) == 'Scalene'"
      ],
      "metadata": {
        "id": "YXgG9rPkLC_V"
      },
      "execution_count": 26,
      "outputs": []
    },
    {
      "cell_type": "code",
      "source": [
        "def suite(test_class):\n",
        "    suite = unittest.TestSuite()\n",
        "    for f in test_class.__dict__:\n",
        "        if f.startswith('test_'):\n",
        "            suite.addTest(test_class(f))\n",
        "    return suite"
      ],
      "metadata": {
        "id": "myOCvW5eLFVg"
      },
      "execution_count": 27,
      "outputs": []
    },
    {
      "cell_type": "code",
      "source": [
        "suite(StrongShapeTest).run(unittest.TestResult())\n"
      ],
      "metadata": {
        "id": "uliLwI2ILIoI",
        "outputId": "3baf139f-7f69-47d0-b8c2-10244d16b032",
        "colab": {
          "base_uri": "https://localhost:8080/"
        }
      },
      "execution_count": 28,
      "outputs": [
        {
          "output_type": "execute_result",
          "data": {
            "text/plain": [
              "<unittest.result.TestResult run=3 errors=0 failures=0>"
            ]
          },
          "metadata": {},
          "execution_count": 28
        }
      ]
    },
    {
      "cell_type": "code",
      "source": [
        "with VisualCoverage() as cov:\n",
        "    suite(StrongShapeTest).run(unittest.TestResult())\n",
        "\n",
        "cov.show_coverage(triangle)\n"
      ],
      "metadata": {
        "id": "seh0k73CLLmI",
        "colab": {
          "base_uri": "https://localhost:8080/"
        },
        "outputId": "7aa8dab3-84da-4859-b501-cfc401cde244"
      },
      "execution_count": 73,
      "outputs": [
        {
          "output_type": "stream",
          "name": "stdout",
          "text": [
            "   1: def triangle(a, b, c):\n",
            "#  2:     if a == b:\n",
            "#  3:         if b == c:\n",
            "#  4:             return 'Equilateral'\n",
            "   5:         else:\n",
            "#  6:             return 'Isosceles'\n",
            "   7:     else:\n",
            "#  8:         if b == c:\n",
            "#  9:             return \"Isosceles\"\n",
            "  10:         else:\n",
            "# 11:             if a == c:\n",
            "# 12:                 return \"Isosceles\"\n",
            "  13:             else:\n",
            "# 14:                 return \"Scalene\"\n",
            "  15: \n"
          ]
        }
      ]
    },
    {
      "cell_type": "code",
      "source": [
        "class WeakShapeTest(unittest.TestCase):\n",
        "    def test_equilateral(self):\n",
        "        assert triangle(1, 1, 1) == 'Equilateral'\n",
        "\n",
        "    def test_isosceles(self):\n",
        "        assert triangle(1, 2, 1) != 'Equilateral'\n",
        "        assert triangle(2, 2, 1) != 'Equilateral'\n",
        "        assert triangle(1, 2, 2) != 'Equilateral'\n",
        "\n",
        "    def test_scalene(self):\n",
        "        assert triangle(1, 2, 3) != 'Equilateral'"
      ],
      "metadata": {
        "id": "-cU2LHK75eR3"
      },
      "execution_count": 30,
      "outputs": []
    },
    {
      "cell_type": "code",
      "source": [
        "with VisualCoverage() as cov:\n",
        "    suite(WeakShapeTest).run(unittest.TestResult())\n",
        "\n",
        "cov.show_coverage(triangle)\n"
      ],
      "metadata": {
        "colab": {
          "base_uri": "https://localhost:8080/"
        },
        "id": "9ORACKZf5haj",
        "outputId": "caffa1bc-dac1-41bf-d378-00531fa913d6"
      },
      "execution_count": 31,
      "outputs": [
        {
          "output_type": "stream",
          "name": "stdout",
          "text": [
            "   1: def triangle(a, b, c):\n",
            "#  2:     if a == b:\n",
            "#  3:         if b == c:\n",
            "#  4:             return 'Equilateral'\n",
            "   5:         else:\n",
            "#  6:             return 'Isosceles'\n",
            "   7:     else:\n",
            "#  8:         if b == c:\n",
            "#  9:             return \"Isosceles\"\n",
            "  10:         else:\n",
            "# 11:             if a == c:\n",
            "# 12:                 return \"Isosceles\"\n",
            "  13:             else:\n",
            "# 14:                 return \"Scalene\"\n",
            "  15: \n"
          ]
        }
      ]
    },
    {
      "cell_type": "markdown",
      "source": [
        "En este capitulo vimos como ejecutar mutation testing sobre funciones, si quieres aprender como implementar una clase para evaluar classes y modulos de python, y analizar la calidad de unit tests. Se le recomienda leer el libro fuzzing book \"Lexical Fuzzing\">>\"Mutation Analysis\""
      ],
      "metadata": {
        "id": "E4Ml8caD6wik"
      }
    },
    {
      "cell_type": "markdown",
      "source": [
        "## Práctica"
      ],
      "metadata": {
        "id": "3Q8W7Y1OPF9W"
      }
    },
    {
      "cell_type": "code",
      "source": [
        "def describe_shape(sides, side_lengths=None):\n",
        "    if sides < 3:\n",
        "        return \"No es una figura geométrica válida\"\n",
        "\n",
        "    if sides == 3:\n",
        "        if side_lengths and len(set(side_lengths)) == 1:\n",
        "            return \"Es un triángulo equilátero\"\n",
        "        elif side_lengths and len(set(side_lengths)) == 2:\n",
        "            return \"Es un triángulo isósceles\"\n",
        "        else:\n",
        "            return \"Es un triángulo escaleno\"\n",
        "\n",
        "    elif sides == 4:\n",
        "        if side_lengths and len(set(side_lengths)) == 1:\n",
        "            return \"Es un cuadrado\"\n",
        "        elif side_lengths and len(set(side_lengths)) == 2:\n",
        "            if side_lengths.count(side_lengths[0]) == 2:\n",
        "                return \"Es un rectángulo\"\n",
        "            else:\n",
        "                return \"Es un rombo\"\n",
        "        else:\n",
        "            return \"Es un cuadrilátero irregular\"\n",
        "\n",
        "    else:\n",
        "        return \"Figura geométrica con más de 6 lados o no es una figura regular\"\n",
        "\n",
        "\n",
        "import sys\n",
        "for mutant_excercise in MuFunctionAnalyzer(describe_shape, log=True):\n",
        "    with mutant_excercise:\n",
        "      assert describe_shape(2) == 'No es una figura geométrica válida', \"Test 1\"\n",
        "      assert describe_shape(3, [1,2,1]) == 'Es un triángulo isósceles', \"Test 2\"\n",
        "\n",
        "mutant_excercise.pm.score()"
      ],
      "metadata": {
        "id": "iXJdo1Jo7uzb",
        "colab": {
          "base_uri": "https://localhost:8080/"
        },
        "outputId": "9fcd4663-e925-46b0-96dd-850c78121f5c"
      },
      "execution_count": 74,
      "outputs": [
        {
          "output_type": "stream",
          "name": "stdout",
          "text": [
            "->\tdescribe_shape_1\n",
            "<-\tdescribe_shape_1\n",
            "Detected describe_shape_1 <class 'AssertionError'> Test 1\n",
            "\n",
            "->\tdescribe_shape_2\n",
            "<-\tdescribe_shape_2\n",
            "\n",
            "->\tdescribe_shape_3\n",
            "<-\tdescribe_shape_3\n",
            "Detected describe_shape_3 <class 'AssertionError'> Test 2\n",
            "\n",
            "->\tdescribe_shape_4\n",
            "<-\tdescribe_shape_4\n",
            "\n",
            "->\tdescribe_shape_5\n",
            "<-\tdescribe_shape_5\n",
            "\n",
            "->\tdescribe_shape_6\n",
            "<-\tdescribe_shape_6\n",
            "\n",
            "->\tdescribe_shape_7\n",
            "<-\tdescribe_shape_7\n",
            "\n",
            "->\tdescribe_shape_8\n",
            "<-\tdescribe_shape_8\n",
            "\n",
            "->\tdescribe_shape_9\n",
            "<-\tdescribe_shape_9\n",
            "\n"
          ]
        },
        {
          "output_type": "execute_result",
          "data": {
            "text/plain": [
              "0.2222222222222222"
            ]
          },
          "metadata": {},
          "execution_count": 74
        }
      ]
    },
    {
      "cell_type": "markdown",
      "source": [
        "## Revisión de los mutantes creados"
      ],
      "metadata": {
        "id": "PDfef4S8mPoZ"
      }
    },
    {
      "cell_type": "code",
      "source": [
        "for mutant_excercise in MuFunctionAnalyzer(describe_shape):\n",
        "    print(mutant_excercise.diff())"
      ],
      "metadata": {
        "colab": {
          "base_uri": "https://localhost:8080/"
        },
        "id": "uqxUs_8DlsG5",
        "outputId": "c1a62261-360c-46ed-de9c-8eb11bfd1708"
      },
      "execution_count": 33,
      "outputs": [
        {
          "output_type": "stream",
          "name": "stdout",
          "text": [
            "--- original\n",
            "\n",
            "+++ mutant\n",
            "\n",
            "@@ -1,6 +1,6 @@\n",
            "\n",
            " def describe_shape(sides, side_lengths=None):\n",
            "     if sides < 3:\n",
            "-        return 'No es una figura geométrica válida'\n",
            "+        pass\n",
            "     if sides == 3:\n",
            "         if side_lengths and len(set(side_lengths)) == 1:\n",
            "             return 'Es un triángulo equilátero'\n",
            "--- original\n",
            "\n",
            "+++ mutant\n",
            "\n",
            "@@ -3,7 +3,7 @@\n",
            "\n",
            "         return 'No es una figura geométrica válida'\n",
            "     if sides == 3:\n",
            "         if side_lengths and len(set(side_lengths)) == 1:\n",
            "-            return 'Es un triángulo equilátero'\n",
            "+            pass\n",
            "         elif side_lengths and len(set(side_lengths)) == 2:\n",
            "             return 'Es un triángulo isósceles'\n",
            "         else:\n",
            "--- original\n",
            "\n",
            "+++ mutant\n",
            "\n",
            "@@ -5,7 +5,7 @@\n",
            "\n",
            "         if side_lengths and len(set(side_lengths)) == 1:\n",
            "             return 'Es un triángulo equilátero'\n",
            "         elif side_lengths and len(set(side_lengths)) == 2:\n",
            "-            return 'Es un triángulo isósceles'\n",
            "+            pass\n",
            "         else:\n",
            "             return 'Es un triángulo escaleno'\n",
            "     elif sides == 4:\n",
            "--- original\n",
            "\n",
            "+++ mutant\n",
            "\n",
            "@@ -7,7 +7,7 @@\n",
            "\n",
            "         elif side_lengths and len(set(side_lengths)) == 2:\n",
            "             return 'Es un triángulo isósceles'\n",
            "         else:\n",
            "-            return 'Es un triángulo escaleno'\n",
            "+            pass\n",
            "     elif sides == 4:\n",
            "         if side_lengths and len(set(side_lengths)) == 1:\n",
            "             return 'Es un cuadrado'\n",
            "--- original\n",
            "\n",
            "+++ mutant\n",
            "\n",
            "@@ -10,7 +10,7 @@\n",
            "\n",
            "             return 'Es un triángulo escaleno'\n",
            "     elif sides == 4:\n",
            "         if side_lengths and len(set(side_lengths)) == 1:\n",
            "-            return 'Es un cuadrado'\n",
            "+            pass\n",
            "         elif side_lengths and len(set(side_lengths)) == 2:\n",
            "             if side_lengths.count(side_lengths[0]) == 2:\n",
            "                 return 'Es un rectángulo'\n",
            "--- original\n",
            "\n",
            "+++ mutant\n",
            "\n",
            "@@ -13,7 +13,7 @@\n",
            "\n",
            "             return 'Es un cuadrado'\n",
            "         elif side_lengths and len(set(side_lengths)) == 2:\n",
            "             if side_lengths.count(side_lengths[0]) == 2:\n",
            "-                return 'Es un rectángulo'\n",
            "+                pass\n",
            "             else:\n",
            "                 return 'Es un rombo'\n",
            "         else:\n",
            "--- original\n",
            "\n",
            "+++ mutant\n",
            "\n",
            "@@ -15,7 +15,7 @@\n",
            "\n",
            "             if side_lengths.count(side_lengths[0]) == 2:\n",
            "                 return 'Es un rectángulo'\n",
            "             else:\n",
            "-                return 'Es un rombo'\n",
            "+                pass\n",
            "         else:\n",
            "             return 'Es un cuadrilátero irregular'\n",
            "     else:\n",
            "--- original\n",
            "\n",
            "+++ mutant\n",
            "\n",
            "@@ -17,6 +17,6 @@\n",
            "\n",
            "             else:\n",
            "                 return 'Es un rombo'\n",
            "         else:\n",
            "-            return 'Es un cuadrilátero irregular'\n",
            "+            pass\n",
            "     else:\n",
            "         return 'Figura geométrica con más de 6 lados o no es una figura regular'\n",
            "--- original\n",
            "\n",
            "+++ mutant\n",
            "\n",
            "@@ -19,4 +19,4 @@\n",
            "\n",
            "         else:\n",
            "             return 'Es un cuadrilátero irregular'\n",
            "     else:\n",
            "-        return 'Figura geométrica con más de 6 lados o no es una figura regular'\n",
            "+        pass\n"
          ]
        }
      ]
    }
  ]
}